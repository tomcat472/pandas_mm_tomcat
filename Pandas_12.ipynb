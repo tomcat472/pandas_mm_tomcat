{
  "nbformat": 4,
  "nbformat_minor": 0,
  "metadata": {
    "colab": {
      "name": "Pandas_12.ipynb",
      "provenance": [],
      "collapsed_sections": [],
      "authorship_tag": "ABX9TyNzG+ZIvdEo7R4vypG7dibb",
      "include_colab_link": true
    },
    "kernelspec": {
      "name": "python3",
      "display_name": "Python 3"
    },
    "language_info": {
      "name": "python"
    }
  },
  "cells": [
    {
      "cell_type": "markdown",
      "metadata": {
        "id": "view-in-github",
        "colab_type": "text"
      },
      "source": [
        "<a href=\"https://colab.research.google.com/github/tomcat472/pandas_mm_tomcat/blob/main/Pandas_12.ipynb\" target=\"_parent\"><img src=\"https://colab.research.google.com/assets/colab-badge.svg\" alt=\"Open In Colab\"/></a>"
      ]
    },
    {
      "cell_type": "code",
      "execution_count": 1,
      "metadata": {
        "id": "-Y0vbpLqWP1L"
      },
      "outputs": [],
      "source": [
        "# importing library\n",
        "import pandas as pd"
      ]
    },
    {
      "cell_type": "code",
      "source": [
        "# google drive နှင့်လင့်ချိတ်ခြင်း\n",
        "from google.colab import drive\n",
        "drive.mount('/content/drive')"
      ],
      "metadata": {
        "colab": {
          "base_uri": "https://localhost:8080/"
        },
        "id": "o7Al50xuWni4",
        "outputId": "0f6ce151-badb-41b2-869e-4c76e88dc44f"
      },
      "execution_count": 2,
      "outputs": [
        {
          "output_type": "stream",
          "name": "stdout",
          "text": [
            "Drive already mounted at /content/drive; to attempt to forcibly remount, call drive.mount(\"/content/drive\", force_remount=True).\n"
          ]
        }
      ]
    },
    {
      "cell_type": "code",
      "source": [
        "df=pd.read_excel('/content/drive/MyDrive/StockX-Data-Contest-2019-3.xlsx',sheet_name='Raw Data')\n",
        "df\n",
        "# အရင် file 11 မှာတုန်းက excel ရဲ့ sheet တွေအကြောင်းပြောပြဖို့ကျန်ခဲ့ပါတယ်။\n",
        "# excel မှာက sheet တွေအများကြီးရှိနိုင်ပါတယ်။\n",
        "# အဲ့လို file တွေကို တောက်လျောက်သုံးလို့မရပါဘူး။ အဲ့တာကြောင့်မို့ sheet_name ကိုရေးပေးပြီးမှ သုံးလို့ရပါတယ်။\n",
        "# အဲ့လိုပဲ excel file တွေ save မယ်ဆိုရင်လဲ sheet_name တွေရေးပြီး save လို့ရပါတယ်။"
      ],
      "metadata": {
        "colab": {
          "base_uri": "https://localhost:8080/",
          "height": 659
        },
        "id": "RHoyxg7pWtcV",
        "outputId": "12de795e-f53b-42f1-f715-c7d9c48c30ae"
      },
      "execution_count": 3,
      "outputs": [
        {
          "output_type": "execute_result",
          "data": {
            "text/plain": [
              "      Order Date   Brand                                   Sneaker Name  \\\n",
              "0     2017-09-01   Yeezy           Adidas-Yeezy-Boost-350-Low-V2-Beluga   \n",
              "1     2017-09-01   Yeezy    Adidas-Yeezy-Boost-350-V2-Core-Black-Copper   \n",
              "2     2017-09-01   Yeezy     Adidas-Yeezy-Boost-350-V2-Core-Black-Green   \n",
              "3     2017-09-01   Yeezy       Adidas-Yeezy-Boost-350-V2-Core-Black-Red   \n",
              "4     2017-09-01   Yeezy  Adidas-Yeezy-Boost-350-V2-Core-Black-Red-2017   \n",
              "...          ...     ...                                            ...   \n",
              "99951 2019-02-13   Yeezy    adidas-Yeezy-Boost-350-V2-Static-Reflective   \n",
              "99952 2019-02-13   Yeezy    adidas-Yeezy-Boost-350-V2-Static-Reflective   \n",
              "99953 2019-02-13   Yeezy    adidas-Yeezy-Boost-350-V2-Static-Reflective   \n",
              "99954 2019-02-13   Yeezy    adidas-Yeezy-Boost-350-V2-Static-Reflective   \n",
              "99955 2019-02-13   Yeezy    adidas-Yeezy-Boost-350-V2-Static-Reflective   \n",
              "\n",
              "       Sale Price  Retail Price Release Date  Shoe Size  Buyer Region  \n",
              "0          1097.0           220   2016-09-24       11.0    California  \n",
              "1           685.0           220   2016-11-23       11.0    California  \n",
              "2           690.0           220   2016-11-23       11.0    California  \n",
              "3          1075.0           220   2016-11-23       11.5      Kentucky  \n",
              "4           828.0           220   2017-02-11       11.0  Rhode Island  \n",
              "...           ...           ...          ...        ...           ...  \n",
              "99951       565.0           220   2018-12-26        8.0        Oregon  \n",
              "99952       598.0           220   2018-12-26        8.5    California  \n",
              "99953       605.0           220   2018-12-26        5.5      New York  \n",
              "99954       650.0           220   2018-12-26       11.0    California  \n",
              "99955       640.0           220   2018-12-26       11.5         Texas  \n",
              "\n",
              "[99956 rows x 8 columns]"
            ],
            "text/html": [
              "\n",
              "  <div id=\"df-79176055-98d9-4e96-adc9-c1a77ad9228b\">\n",
              "    <div class=\"colab-df-container\">\n",
              "      <div>\n",
              "<style scoped>\n",
              "    .dataframe tbody tr th:only-of-type {\n",
              "        vertical-align: middle;\n",
              "    }\n",
              "\n",
              "    .dataframe tbody tr th {\n",
              "        vertical-align: top;\n",
              "    }\n",
              "\n",
              "    .dataframe thead th {\n",
              "        text-align: right;\n",
              "    }\n",
              "</style>\n",
              "<table border=\"1\" class=\"dataframe\">\n",
              "  <thead>\n",
              "    <tr style=\"text-align: right;\">\n",
              "      <th></th>\n",
              "      <th>Order Date</th>\n",
              "      <th>Brand</th>\n",
              "      <th>Sneaker Name</th>\n",
              "      <th>Sale Price</th>\n",
              "      <th>Retail Price</th>\n",
              "      <th>Release Date</th>\n",
              "      <th>Shoe Size</th>\n",
              "      <th>Buyer Region</th>\n",
              "    </tr>\n",
              "  </thead>\n",
              "  <tbody>\n",
              "    <tr>\n",
              "      <th>0</th>\n",
              "      <td>2017-09-01</td>\n",
              "      <td>Yeezy</td>\n",
              "      <td>Adidas-Yeezy-Boost-350-Low-V2-Beluga</td>\n",
              "      <td>1097.0</td>\n",
              "      <td>220</td>\n",
              "      <td>2016-09-24</td>\n",
              "      <td>11.0</td>\n",
              "      <td>California</td>\n",
              "    </tr>\n",
              "    <tr>\n",
              "      <th>1</th>\n",
              "      <td>2017-09-01</td>\n",
              "      <td>Yeezy</td>\n",
              "      <td>Adidas-Yeezy-Boost-350-V2-Core-Black-Copper</td>\n",
              "      <td>685.0</td>\n",
              "      <td>220</td>\n",
              "      <td>2016-11-23</td>\n",
              "      <td>11.0</td>\n",
              "      <td>California</td>\n",
              "    </tr>\n",
              "    <tr>\n",
              "      <th>2</th>\n",
              "      <td>2017-09-01</td>\n",
              "      <td>Yeezy</td>\n",
              "      <td>Adidas-Yeezy-Boost-350-V2-Core-Black-Green</td>\n",
              "      <td>690.0</td>\n",
              "      <td>220</td>\n",
              "      <td>2016-11-23</td>\n",
              "      <td>11.0</td>\n",
              "      <td>California</td>\n",
              "    </tr>\n",
              "    <tr>\n",
              "      <th>3</th>\n",
              "      <td>2017-09-01</td>\n",
              "      <td>Yeezy</td>\n",
              "      <td>Adidas-Yeezy-Boost-350-V2-Core-Black-Red</td>\n",
              "      <td>1075.0</td>\n",
              "      <td>220</td>\n",
              "      <td>2016-11-23</td>\n",
              "      <td>11.5</td>\n",
              "      <td>Kentucky</td>\n",
              "    </tr>\n",
              "    <tr>\n",
              "      <th>4</th>\n",
              "      <td>2017-09-01</td>\n",
              "      <td>Yeezy</td>\n",
              "      <td>Adidas-Yeezy-Boost-350-V2-Core-Black-Red-2017</td>\n",
              "      <td>828.0</td>\n",
              "      <td>220</td>\n",
              "      <td>2017-02-11</td>\n",
              "      <td>11.0</td>\n",
              "      <td>Rhode Island</td>\n",
              "    </tr>\n",
              "    <tr>\n",
              "      <th>...</th>\n",
              "      <td>...</td>\n",
              "      <td>...</td>\n",
              "      <td>...</td>\n",
              "      <td>...</td>\n",
              "      <td>...</td>\n",
              "      <td>...</td>\n",
              "      <td>...</td>\n",
              "      <td>...</td>\n",
              "    </tr>\n",
              "    <tr>\n",
              "      <th>99951</th>\n",
              "      <td>2019-02-13</td>\n",
              "      <td>Yeezy</td>\n",
              "      <td>adidas-Yeezy-Boost-350-V2-Static-Reflective</td>\n",
              "      <td>565.0</td>\n",
              "      <td>220</td>\n",
              "      <td>2018-12-26</td>\n",
              "      <td>8.0</td>\n",
              "      <td>Oregon</td>\n",
              "    </tr>\n",
              "    <tr>\n",
              "      <th>99952</th>\n",
              "      <td>2019-02-13</td>\n",
              "      <td>Yeezy</td>\n",
              "      <td>adidas-Yeezy-Boost-350-V2-Static-Reflective</td>\n",
              "      <td>598.0</td>\n",
              "      <td>220</td>\n",
              "      <td>2018-12-26</td>\n",
              "      <td>8.5</td>\n",
              "      <td>California</td>\n",
              "    </tr>\n",
              "    <tr>\n",
              "      <th>99953</th>\n",
              "      <td>2019-02-13</td>\n",
              "      <td>Yeezy</td>\n",
              "      <td>adidas-Yeezy-Boost-350-V2-Static-Reflective</td>\n",
              "      <td>605.0</td>\n",
              "      <td>220</td>\n",
              "      <td>2018-12-26</td>\n",
              "      <td>5.5</td>\n",
              "      <td>New York</td>\n",
              "    </tr>\n",
              "    <tr>\n",
              "      <th>99954</th>\n",
              "      <td>2019-02-13</td>\n",
              "      <td>Yeezy</td>\n",
              "      <td>adidas-Yeezy-Boost-350-V2-Static-Reflective</td>\n",
              "      <td>650.0</td>\n",
              "      <td>220</td>\n",
              "      <td>2018-12-26</td>\n",
              "      <td>11.0</td>\n",
              "      <td>California</td>\n",
              "    </tr>\n",
              "    <tr>\n",
              "      <th>99955</th>\n",
              "      <td>2019-02-13</td>\n",
              "      <td>Yeezy</td>\n",
              "      <td>adidas-Yeezy-Boost-350-V2-Static-Reflective</td>\n",
              "      <td>640.0</td>\n",
              "      <td>220</td>\n",
              "      <td>2018-12-26</td>\n",
              "      <td>11.5</td>\n",
              "      <td>Texas</td>\n",
              "    </tr>\n",
              "  </tbody>\n",
              "</table>\n",
              "<p>99956 rows × 8 columns</p>\n",
              "</div>\n",
              "      <button class=\"colab-df-convert\" onclick=\"convertToInteractive('df-79176055-98d9-4e96-adc9-c1a77ad9228b')\"\n",
              "              title=\"Convert this dataframe to an interactive table.\"\n",
              "              style=\"display:none;\">\n",
              "        \n",
              "  <svg xmlns=\"http://www.w3.org/2000/svg\" height=\"24px\"viewBox=\"0 0 24 24\"\n",
              "       width=\"24px\">\n",
              "    <path d=\"M0 0h24v24H0V0z\" fill=\"none\"/>\n",
              "    <path d=\"M18.56 5.44l.94 2.06.94-2.06 2.06-.94-2.06-.94-.94-2.06-.94 2.06-2.06.94zm-11 1L8.5 8.5l.94-2.06 2.06-.94-2.06-.94L8.5 2.5l-.94 2.06-2.06.94zm10 10l.94 2.06.94-2.06 2.06-.94-2.06-.94-.94-2.06-.94 2.06-2.06.94z\"/><path d=\"M17.41 7.96l-1.37-1.37c-.4-.4-.92-.59-1.43-.59-.52 0-1.04.2-1.43.59L10.3 9.45l-7.72 7.72c-.78.78-.78 2.05 0 2.83L4 21.41c.39.39.9.59 1.41.59.51 0 1.02-.2 1.41-.59l7.78-7.78 2.81-2.81c.8-.78.8-2.07 0-2.86zM5.41 20L4 18.59l7.72-7.72 1.47 1.35L5.41 20z\"/>\n",
              "  </svg>\n",
              "      </button>\n",
              "      \n",
              "  <style>\n",
              "    .colab-df-container {\n",
              "      display:flex;\n",
              "      flex-wrap:wrap;\n",
              "      gap: 12px;\n",
              "    }\n",
              "\n",
              "    .colab-df-convert {\n",
              "      background-color: #E8F0FE;\n",
              "      border: none;\n",
              "      border-radius: 50%;\n",
              "      cursor: pointer;\n",
              "      display: none;\n",
              "      fill: #1967D2;\n",
              "      height: 32px;\n",
              "      padding: 0 0 0 0;\n",
              "      width: 32px;\n",
              "    }\n",
              "\n",
              "    .colab-df-convert:hover {\n",
              "      background-color: #E2EBFA;\n",
              "      box-shadow: 0px 1px 2px rgba(60, 64, 67, 0.3), 0px 1px 3px 1px rgba(60, 64, 67, 0.15);\n",
              "      fill: #174EA6;\n",
              "    }\n",
              "\n",
              "    [theme=dark] .colab-df-convert {\n",
              "      background-color: #3B4455;\n",
              "      fill: #D2E3FC;\n",
              "    }\n",
              "\n",
              "    [theme=dark] .colab-df-convert:hover {\n",
              "      background-color: #434B5C;\n",
              "      box-shadow: 0px 1px 3px 1px rgba(0, 0, 0, 0.15);\n",
              "      filter: drop-shadow(0px 1px 2px rgba(0, 0, 0, 0.3));\n",
              "      fill: #FFFFFF;\n",
              "    }\n",
              "  </style>\n",
              "\n",
              "      <script>\n",
              "        const buttonEl =\n",
              "          document.querySelector('#df-79176055-98d9-4e96-adc9-c1a77ad9228b button.colab-df-convert');\n",
              "        buttonEl.style.display =\n",
              "          google.colab.kernel.accessAllowed ? 'block' : 'none';\n",
              "\n",
              "        async function convertToInteractive(key) {\n",
              "          const element = document.querySelector('#df-79176055-98d9-4e96-adc9-c1a77ad9228b');\n",
              "          const dataTable =\n",
              "            await google.colab.kernel.invokeFunction('convertToInteractive',\n",
              "                                                     [key], {});\n",
              "          if (!dataTable) return;\n",
              "\n",
              "          const docLinkHtml = 'Like what you see? Visit the ' +\n",
              "            '<a target=\"_blank\" href=https://colab.research.google.com/notebooks/data_table.ipynb>data table notebook</a>'\n",
              "            + ' to learn more about interactive tables.';\n",
              "          element.innerHTML = '';\n",
              "          dataTable['output_type'] = 'display_data';\n",
              "          await google.colab.output.renderOutput(dataTable, element);\n",
              "          const docLink = document.createElement('div');\n",
              "          docLink.innerHTML = docLinkHtml;\n",
              "          element.appendChild(docLink);\n",
              "        }\n",
              "      </script>\n",
              "    </div>\n",
              "  </div>\n",
              "  "
            ]
          },
          "metadata": {},
          "execution_count": 3
        }
      ]
    },
    {
      "cell_type": "code",
      "source": [
        "# ဒီတခါမှာတော့ date/time တွေနဲ့ပတ်သက်တဲ့ အကြောင်းအရာတွေကို ဆက်ရှင်းပြသွားပါမယ်။\n",
        "# ပထမဆုံးကိုယ့်ရဲ့ df ထဲက date column က date format ဖြစ်/မဖြစ်ကို အရင်စစ်ပါမယ်။\n",
        "df.info()"
      ],
      "metadata": {
        "id": "1gWizV0lXWrO",
        "colab": {
          "base_uri": "https://localhost:8080/"
        },
        "outputId": "fc88282f-547a-414b-85b1-173bc6a6bec0"
      },
      "execution_count": 4,
      "outputs": [
        {
          "output_type": "stream",
          "name": "stdout",
          "text": [
            "<class 'pandas.core.frame.DataFrame'>\n",
            "RangeIndex: 99956 entries, 0 to 99955\n",
            "Data columns (total 8 columns):\n",
            " #   Column        Non-Null Count  Dtype         \n",
            "---  ------        --------------  -----         \n",
            " 0   Order Date    99956 non-null  datetime64[ns]\n",
            " 1   Brand         99956 non-null  object        \n",
            " 2   Sneaker Name  99956 non-null  object        \n",
            " 3   Sale Price    99956 non-null  float64       \n",
            " 4   Retail Price  99956 non-null  int64         \n",
            " 5   Release Date  99956 non-null  datetime64[ns]\n",
            " 6   Shoe Size     99956 non-null  float64       \n",
            " 7   Buyer Region  99956 non-null  object        \n",
            "dtypes: datetime64[ns](2), float64(2), int64(1), object(3)\n",
            "memory usage: 6.1+ MB\n"
          ]
        }
      ]
    },
    {
      "cell_type": "code",
      "source": [
        "# info ကိုကြည့်လိုက်တော့ date format ပြောင်းပြီးသားဆိုတော့ ပြန်ပြောင်းစရာမလိုတော့ပါဘူး။\n",
        "# တကယ်လို့ မပြောင်းရသေးဘူးဆိုရင် pd.to_datetime(df.date_column) ပုံစံနဲ့ပြောင်းရမှာဖြစ်ပါတယ်။\n",
        "# ဒီလိုမလုပ်ချင်ဘူးဆိုရင်လည်း ဖိုင်ကို read ရင် parse_date=['date_column']ကိုရေးပေးရင်လည်းရပါတယ်။\n",
        "# date format မမှန်ရင်လည်း format='%y/%m/%d'အစရှိသည့်ပုံစံကို စိတ်ကြိုက်ကစားပေးရမှာဖြစ်ပါတယ်။\n",
        "# y က year, m က month ဖြစ်ပြီး d က day ဖြစ်ပါတယ်။"
      ],
      "metadata": {
        "id": "mEIggbd0aF6M"
      },
      "execution_count": 5,
      "outputs": []
    },
    {
      "cell_type": "code",
      "source": [
        "# ဒါဆိုရင် စပြီးသုံးကြည့်ရအောင်\n",
        "df['Order Date'].head()"
      ],
      "metadata": {
        "colab": {
          "base_uri": "https://localhost:8080/"
        },
        "id": "iVQ6UXGbblEm",
        "outputId": "14ce6d4c-3173-4521-ca78-f0c152397aa3"
      },
      "execution_count": 6,
      "outputs": [
        {
          "output_type": "execute_result",
          "data": {
            "text/plain": [
              "0   2017-09-01\n",
              "1   2017-09-01\n",
              "2   2017-09-01\n",
              "3   2017-09-01\n",
              "4   2017-09-01\n",
              "Name: Order Date, dtype: datetime64[ns]"
            ]
          },
          "metadata": {},
          "execution_count": 6
        }
      ]
    },
    {
      "cell_type": "code",
      "source": [
        "# ခုနှစ်သီးသန့်ထုတ်ကြည့်မယ်။\n",
        "df['Order Date'].dt.year"
      ],
      "metadata": {
        "colab": {
          "base_uri": "https://localhost:8080/"
        },
        "id": "zXqF4m7AhKh1",
        "outputId": "f383776e-2fe8-4a08-dbaa-dbce9247cdb8"
      },
      "execution_count": 7,
      "outputs": [
        {
          "output_type": "execute_result",
          "data": {
            "text/plain": [
              "0        2017\n",
              "1        2017\n",
              "2        2017\n",
              "3        2017\n",
              "4        2017\n",
              "         ... \n",
              "99951    2019\n",
              "99952    2019\n",
              "99953    2019\n",
              "99954    2019\n",
              "99955    2019\n",
              "Name: Order Date, Length: 99956, dtype: int64"
            ]
          },
          "metadata": {},
          "execution_count": 7
        }
      ]
    },
    {
      "cell_type": "code",
      "source": [
        "# လ သီးသန့်ထုတ်ကြည့်မယ်။\n",
        "df['Order Date'].dt.month"
      ],
      "metadata": {
        "colab": {
          "base_uri": "https://localhost:8080/"
        },
        "id": "wPr5vFQchSpL",
        "outputId": "23bb5ccd-93e4-4d0f-9ff4-bdc037e1d53f"
      },
      "execution_count": 8,
      "outputs": [
        {
          "output_type": "execute_result",
          "data": {
            "text/plain": [
              "0        9\n",
              "1        9\n",
              "2        9\n",
              "3        9\n",
              "4        9\n",
              "        ..\n",
              "99951    2\n",
              "99952    2\n",
              "99953    2\n",
              "99954    2\n",
              "99955    2\n",
              "Name: Order Date, Length: 99956, dtype: int64"
            ]
          },
          "metadata": {},
          "execution_count": 8
        }
      ]
    },
    {
      "cell_type": "code",
      "source": [
        "# ရက် သီးသန့်ထုတ်ကြည့်မယ်။\n",
        "df['Order Date'].dt.day"
      ],
      "metadata": {
        "colab": {
          "base_uri": "https://localhost:8080/"
        },
        "id": "2x3ZhAsphcju",
        "outputId": "f554891e-5305-4b86-a90c-5fe6abf5a8d8"
      },
      "execution_count": 9,
      "outputs": [
        {
          "output_type": "execute_result",
          "data": {
            "text/plain": [
              "0         1\n",
              "1         1\n",
              "2         1\n",
              "3         1\n",
              "4         1\n",
              "         ..\n",
              "99951    13\n",
              "99952    13\n",
              "99953    13\n",
              "99954    13\n",
              "99955    13\n",
              "Name: Order Date, Length: 99956, dtype: int64"
            ]
          },
          "metadata": {},
          "execution_count": 9
        }
      ]
    },
    {
      "cell_type": "code",
      "source": [
        "# day of week အားရှာဖွေခြင်း\n",
        "df['Order Date'].dt.dayofweek\n",
        "# mon-0/tue-1/wed-2/...../sun-6\n",
        "# ဒီလိုဟာကိုဘယ်မှာသုံးလဲဆိုတော့ unsupervised learning မှာသုံးလေ့ရှိပါတယ်။"
      ],
      "metadata": {
        "colab": {
          "base_uri": "https://localhost:8080/"
        },
        "id": "mvY2EMpZ9Cz2",
        "outputId": "bad8ce10-ac05-490e-d6a2-8468b6da9b0a"
      },
      "execution_count": 10,
      "outputs": [
        {
          "output_type": "execute_result",
          "data": {
            "text/plain": [
              "0        4\n",
              "1        4\n",
              "2        4\n",
              "3        4\n",
              "4        4\n",
              "        ..\n",
              "99951    2\n",
              "99952    2\n",
              "99953    2\n",
              "99954    2\n",
              "99955    2\n",
              "Name: Order Date, Length: 99956, dtype: int64"
            ]
          },
          "metadata": {},
          "execution_count": 10
        }
      ]
    },
    {
      "cell_type": "code",
      "source": [
        "# နာရီတွေ/မိနစ်တွေပါရင်လည်းထုတ်လို့ရပါတယ်။"
      ],
      "metadata": {
        "id": "OeN-n0JjhupP"
      },
      "execution_count": 11,
      "outputs": []
    },
    {
      "cell_type": "code",
      "source": [
        "# လနာမည်များကြည့်ခြင်း\n",
        "df['Order Date'].dt.month_name()"
      ],
      "metadata": {
        "colab": {
          "base_uri": "https://localhost:8080/"
        },
        "id": "cQSZ0s_ih7iV",
        "outputId": "abe66516-1497-4c6f-b5d5-4f48b95d2047"
      },
      "execution_count": 12,
      "outputs": [
        {
          "output_type": "execute_result",
          "data": {
            "text/plain": [
              "0        September\n",
              "1        September\n",
              "2        September\n",
              "3        September\n",
              "4        September\n",
              "           ...    \n",
              "99951     February\n",
              "99952     February\n",
              "99953     February\n",
              "99954     February\n",
              "99955     February\n",
              "Name: Order Date, Length: 99956, dtype: object"
            ]
          },
          "metadata": {},
          "execution_count": 12
        }
      ]
    },
    {
      "cell_type": "code",
      "source": [
        "df['Order Date'].dt.month_name().value_counts()\n",
        "# Date များ၏ အရေအတွက်ဟာ တန်ဘိုးအပေါ်ပဲအခြေခံနေတဲ့အတွက် လအလိုက်ရချင်ရင် index ကို sorting လုပ်ပေးရပါမယ်။"
      ],
      "metadata": {
        "colab": {
          "base_uri": "https://localhost:8080/"
        },
        "id": "wZDPJyVgiKxD",
        "outputId": "5c3ded7f-4e53-416e-9561-7637d8138012"
      },
      "execution_count": 13,
      "outputs": [
        {
          "output_type": "execute_result",
          "data": {
            "text/plain": [
              "December     22292\n",
              "November     15489\n",
              "January      14511\n",
              "February      7774\n",
              "July          7434\n",
              "October       7307\n",
              "August        6090\n",
              "June          5431\n",
              "September     4671\n",
              "May           3456\n",
              "April         2756\n",
              "March         2745\n",
              "Name: Order Date, dtype: int64"
            ]
          },
          "metadata": {},
          "execution_count": 13
        }
      ]
    },
    {
      "cell_type": "code",
      "source": [
        "# sorting လုပ်တဲ့အခါမှာ ကိုယ်ရချင်တဲ့ index အတိုင်းရဖို့အတွက် list ထဲမှာ ပြန်ရေးပြီး sort လုပ်ပေးဖို့တော့လိုပါတယ်။\n",
        "new_order = ['January', 'February', 'March', 'April', 'May', 'June', 'July', 'August', 'September', 'October', 'November', 'December']\n",
        "df['Order Date'].dt.month_name().value_counts().reindex(new_order, axis=0)"
      ],
      "metadata": {
        "colab": {
          "base_uri": "https://localhost:8080/"
        },
        "id": "poaLMyj2ixBC",
        "outputId": "24782409-c597-4f06-b7e8-26d298ba3922"
      },
      "execution_count": 14,
      "outputs": [
        {
          "output_type": "execute_result",
          "data": {
            "text/plain": [
              "January      14511\n",
              "February      7774\n",
              "March         2745\n",
              "April         2756\n",
              "May           3456\n",
              "June          5431\n",
              "July          7434\n",
              "August        6090\n",
              "September     4671\n",
              "October       7307\n",
              "November     15489\n",
              "December     22292\n",
              "Name: Order Date, dtype: int64"
            ]
          },
          "metadata": {},
          "execution_count": 14
        }
      ]
    },
    {
      "cell_type": "code",
      "source": [
        "# လနာမည်များကြည့်ခြင်း\n",
        "df['Order Date'].dt.day_name()"
      ],
      "metadata": {
        "colab": {
          "base_uri": "https://localhost:8080/"
        },
        "id": "8lUEi3uRiDLi",
        "outputId": "981c9090-5df6-43e0-8701-0b3a266e3db8"
      },
      "execution_count": 15,
      "outputs": [
        {
          "output_type": "execute_result",
          "data": {
            "text/plain": [
              "0           Friday\n",
              "1           Friday\n",
              "2           Friday\n",
              "3           Friday\n",
              "4           Friday\n",
              "           ...    \n",
              "99951    Wednesday\n",
              "99952    Wednesday\n",
              "99953    Wednesday\n",
              "99954    Wednesday\n",
              "99955    Wednesday\n",
              "Name: Order Date, Length: 99956, dtype: object"
            ]
          },
          "metadata": {},
          "execution_count": 15
        }
      ]
    },
    {
      "cell_type": "code",
      "source": [
        "df['Order Date'].dt.day_name().value_counts()"
      ],
      "metadata": {
        "colab": {
          "base_uri": "https://localhost:8080/"
        },
        "id": "CeDiQTpGiGtU",
        "outputId": "21bd253e-6454-4139-f44b-570092fba603"
      },
      "execution_count": 16,
      "outputs": [
        {
          "output_type": "execute_result",
          "data": {
            "text/plain": [
              "Friday       17309\n",
              "Wednesday    15424\n",
              "Thursday     14997\n",
              "Saturday     14005\n",
              "Monday       13734\n",
              "Tuesday      13391\n",
              "Sunday       11096\n",
              "Name: Order Date, dtype: int64"
            ]
          },
          "metadata": {},
          "execution_count": 16
        }
      ]
    },
    {
      "cell_type": "code",
      "source": [
        "# column ထဲက နောက်ဆုံးရက်နဲ့ ပထမဆုံးရက်ကို ကြည့်ခြင်း\n",
        "print(df['Order Date'].min()) #ပထမဆုံးရက်\n",
        "print(df['Order Date'].max()) #နောက်ဆုံးရက်"
      ],
      "metadata": {
        "colab": {
          "base_uri": "https://localhost:8080/"
        },
        "id": "5d25ehdjiQ40",
        "outputId": "d4a19b22-5807-4371-b5a9-554a2e029e8a"
      },
      "execution_count": 17,
      "outputs": [
        {
          "output_type": "stream",
          "name": "stdout",
          "text": [
            "2017-09-01 00:00:00\n",
            "2019-02-13 00:00:00\n"
          ]
        }
      ]
    },
    {
      "cell_type": "markdown",
      "source": [
        "### **Date Time Operation**"
      ],
      "metadata": {
        "id": "q1hgHTZX6lFe"
      }
    },
    {
      "cell_type": "code",
      "source": [
        "# နောက်ဆုံးရက်မှ ပထမရက်ထိ ရက်များအားကြည့်ခြင်း\n",
        "df['Order Date'].max()-df['Order Date'].min()"
      ],
      "metadata": {
        "colab": {
          "base_uri": "https://localhost:8080/"
        },
        "id": "dcHm7v1JoIjb",
        "outputId": "03f58f97-50a0-416f-a44d-e611d0436fc6"
      },
      "execution_count": 18,
      "outputs": [
        {
          "output_type": "execute_result",
          "data": {
            "text/plain": [
              "Timedelta('530 days 00:00:00')"
            ]
          },
          "metadata": {},
          "execution_count": 18
        }
      ]
    },
    {
      "cell_type": "code",
      "source": [
        "# မိမိရချင်တဲ့ date အားရှာခြင်း\n",
        "df[df['Order Date']=='2017-10-3']"
      ],
      "metadata": {
        "colab": {
          "base_uri": "https://localhost:8080/",
          "height": 1000
        },
        "id": "VOvO4GXT63vy",
        "outputId": "4847139e-eb5e-480f-bc07-cb043761a3fe"
      },
      "execution_count": 19,
      "outputs": [
        {
          "output_type": "execute_result",
          "data": {
            "text/plain": [
              "    Order Date      Brand                                   Sneaker Name  \\\n",
              "735 2017-10-03      Yeezy           Adidas-Yeezy-Boost-350-Low-V2-Beluga   \n",
              "736 2017-10-03      Yeezy           Adidas-Yeezy-Boost-350-Low-V2-Beluga   \n",
              "737 2017-10-03      Yeezy     Adidas-Yeezy-Boost-350-V2-Core-Black-Green   \n",
              "738 2017-10-03      Yeezy  Adidas-Yeezy-Boost-350-V2-Core-Black-Red-2017   \n",
              "739 2017-10-03      Yeezy  Adidas-Yeezy-Boost-350-V2-Core-Black-Red-2017   \n",
              "740 2017-10-03      Yeezy  Adidas-Yeezy-Boost-350-V2-Core-Black-Red-2017   \n",
              "741 2017-10-03      Yeezy  Adidas-Yeezy-Boost-350-V2-Core-Black-Red-2017   \n",
              "742 2017-10-03      Yeezy     Adidas-Yeezy-Boost-350-V2-Core-Black-White   \n",
              "743 2017-10-03      Yeezy          Adidas-Yeezy-Boost-350-V2-Cream-White   \n",
              "744 2017-10-03      Yeezy          Adidas-Yeezy-Boost-350-V2-Cream-White   \n",
              "745 2017-10-03      Yeezy          Adidas-Yeezy-Boost-350-V2-Cream-White   \n",
              "746 2017-10-03      Yeezy          Adidas-Yeezy-Boost-350-V2-Cream-White   \n",
              "747 2017-10-03      Yeezy                Adidas-Yeezy-Boost-350-V2-Zebra   \n",
              "748 2017-10-03      Yeezy                Adidas-Yeezy-Boost-350-V2-Zebra   \n",
              "749 2017-10-03      Yeezy                Adidas-Yeezy-Boost-350-V2-Zebra   \n",
              "750 2017-10-03      Yeezy                Adidas-Yeezy-Boost-350-V2-Zebra   \n",
              "751 2017-10-03      Yeezy                Adidas-Yeezy-Boost-350-V2-Zebra   \n",
              "752 2017-10-03      Yeezy                Adidas-Yeezy-Boost-350-V2-Zebra   \n",
              "753 2017-10-03      Yeezy                Adidas-Yeezy-Boost-350-V2-Zebra   \n",
              "754 2017-10-03      Yeezy                Adidas-Yeezy-Boost-350-V2-Zebra   \n",
              "755 2017-10-03      Yeezy                Adidas-Yeezy-Boost-350-V2-Zebra   \n",
              "756 2017-10-03      Yeezy                Adidas-Yeezy-Boost-350-V2-Zebra   \n",
              "757 2017-10-03  Off-White      Air-Jordan-1-Retro-High-Off-White-Chicago   \n",
              "758 2017-10-03  Off-White      Air-Jordan-1-Retro-High-Off-White-Chicago   \n",
              "759 2017-10-03  Off-White                      Nike-Air-Max-90-Off-White   \n",
              "760 2017-10-03  Off-White                      Nike-Air-Presto-Off-White   \n",
              "761 2017-10-03  Off-White                      Nike-Air-Presto-Off-White   \n",
              "762 2017-10-03  Off-White                    Nike-Air-VaporMax-Off-White   \n",
              "763 2017-10-03  Off-White                      Nike-Blazer-Mid-Off-White   \n",
              "\n",
              "     Sale Price  Retail Price Release Date  Shoe Size Buyer Region  \n",
              "735      1155.0           220   2016-09-24       11.5     Kentucky  \n",
              "736       976.0           220   2016-09-24       10.5   California  \n",
              "737       610.0           220   2016-11-23        4.0     Oklahoma  \n",
              "738       766.0           220   2017-02-11       10.0   California  \n",
              "739       874.0           220   2017-02-11       11.5   Washington  \n",
              "740       830.0           220   2017-02-11        7.0     New York  \n",
              "741       790.0           220   2017-02-11       11.5     New York  \n",
              "742       777.0           220   2016-12-17       11.0     Kentucky  \n",
              "743       499.0           220   2017-04-29       12.0        Texas  \n",
              "744       465.0           220   2017-04-29        9.0     New York  \n",
              "745       572.0           220   2017-04-29        4.0     New York  \n",
              "746       700.0           220   2017-04-29       16.0     Virginia  \n",
              "747       650.0           220   2017-02-25       12.0     Kentucky  \n",
              "748       670.0           220   2017-02-25       12.0      Indiana  \n",
              "749       720.0           220   2017-02-25        5.5     Oklahoma  \n",
              "750       569.0           220   2017-02-25        8.0         Iowa  \n",
              "751       560.0           220   2017-02-25        8.5     New York  \n",
              "752       550.0           220   2017-02-25        6.5      Florida  \n",
              "753       450.0           220   2017-02-25       14.0      Florida  \n",
              "754       665.0           220   2017-02-25       12.0        Texas  \n",
              "755       669.0           220   2017-02-25       12.0       Oregon  \n",
              "756       675.0           220   2017-02-25       12.0   California  \n",
              "757      1756.0           190   2017-09-09       10.0     Illinois  \n",
              "758      1947.0           190   2017-09-09       10.5        Texas  \n",
              "759       850.0           160   2017-09-09        9.5         Utah  \n",
              "760      1060.0           160   2017-09-09        6.0   California  \n",
              "761      1250.0           160   2017-09-09       10.0     Michigan  \n",
              "762       965.0           250   2017-09-09       12.0         Ohio  \n",
              "763       745.0           130   2017-09-09       12.0   California  "
            ],
            "text/html": [
              "\n",
              "  <div id=\"df-b1a20b5a-b821-4dc2-a2b6-e1c89a5f3937\">\n",
              "    <div class=\"colab-df-container\">\n",
              "      <div>\n",
              "<style scoped>\n",
              "    .dataframe tbody tr th:only-of-type {\n",
              "        vertical-align: middle;\n",
              "    }\n",
              "\n",
              "    .dataframe tbody tr th {\n",
              "        vertical-align: top;\n",
              "    }\n",
              "\n",
              "    .dataframe thead th {\n",
              "        text-align: right;\n",
              "    }\n",
              "</style>\n",
              "<table border=\"1\" class=\"dataframe\">\n",
              "  <thead>\n",
              "    <tr style=\"text-align: right;\">\n",
              "      <th></th>\n",
              "      <th>Order Date</th>\n",
              "      <th>Brand</th>\n",
              "      <th>Sneaker Name</th>\n",
              "      <th>Sale Price</th>\n",
              "      <th>Retail Price</th>\n",
              "      <th>Release Date</th>\n",
              "      <th>Shoe Size</th>\n",
              "      <th>Buyer Region</th>\n",
              "    </tr>\n",
              "  </thead>\n",
              "  <tbody>\n",
              "    <tr>\n",
              "      <th>735</th>\n",
              "      <td>2017-10-03</td>\n",
              "      <td>Yeezy</td>\n",
              "      <td>Adidas-Yeezy-Boost-350-Low-V2-Beluga</td>\n",
              "      <td>1155.0</td>\n",
              "      <td>220</td>\n",
              "      <td>2016-09-24</td>\n",
              "      <td>11.5</td>\n",
              "      <td>Kentucky</td>\n",
              "    </tr>\n",
              "    <tr>\n",
              "      <th>736</th>\n",
              "      <td>2017-10-03</td>\n",
              "      <td>Yeezy</td>\n",
              "      <td>Adidas-Yeezy-Boost-350-Low-V2-Beluga</td>\n",
              "      <td>976.0</td>\n",
              "      <td>220</td>\n",
              "      <td>2016-09-24</td>\n",
              "      <td>10.5</td>\n",
              "      <td>California</td>\n",
              "    </tr>\n",
              "    <tr>\n",
              "      <th>737</th>\n",
              "      <td>2017-10-03</td>\n",
              "      <td>Yeezy</td>\n",
              "      <td>Adidas-Yeezy-Boost-350-V2-Core-Black-Green</td>\n",
              "      <td>610.0</td>\n",
              "      <td>220</td>\n",
              "      <td>2016-11-23</td>\n",
              "      <td>4.0</td>\n",
              "      <td>Oklahoma</td>\n",
              "    </tr>\n",
              "    <tr>\n",
              "      <th>738</th>\n",
              "      <td>2017-10-03</td>\n",
              "      <td>Yeezy</td>\n",
              "      <td>Adidas-Yeezy-Boost-350-V2-Core-Black-Red-2017</td>\n",
              "      <td>766.0</td>\n",
              "      <td>220</td>\n",
              "      <td>2017-02-11</td>\n",
              "      <td>10.0</td>\n",
              "      <td>California</td>\n",
              "    </tr>\n",
              "    <tr>\n",
              "      <th>739</th>\n",
              "      <td>2017-10-03</td>\n",
              "      <td>Yeezy</td>\n",
              "      <td>Adidas-Yeezy-Boost-350-V2-Core-Black-Red-2017</td>\n",
              "      <td>874.0</td>\n",
              "      <td>220</td>\n",
              "      <td>2017-02-11</td>\n",
              "      <td>11.5</td>\n",
              "      <td>Washington</td>\n",
              "    </tr>\n",
              "    <tr>\n",
              "      <th>740</th>\n",
              "      <td>2017-10-03</td>\n",
              "      <td>Yeezy</td>\n",
              "      <td>Adidas-Yeezy-Boost-350-V2-Core-Black-Red-2017</td>\n",
              "      <td>830.0</td>\n",
              "      <td>220</td>\n",
              "      <td>2017-02-11</td>\n",
              "      <td>7.0</td>\n",
              "      <td>New York</td>\n",
              "    </tr>\n",
              "    <tr>\n",
              "      <th>741</th>\n",
              "      <td>2017-10-03</td>\n",
              "      <td>Yeezy</td>\n",
              "      <td>Adidas-Yeezy-Boost-350-V2-Core-Black-Red-2017</td>\n",
              "      <td>790.0</td>\n",
              "      <td>220</td>\n",
              "      <td>2017-02-11</td>\n",
              "      <td>11.5</td>\n",
              "      <td>New York</td>\n",
              "    </tr>\n",
              "    <tr>\n",
              "      <th>742</th>\n",
              "      <td>2017-10-03</td>\n",
              "      <td>Yeezy</td>\n",
              "      <td>Adidas-Yeezy-Boost-350-V2-Core-Black-White</td>\n",
              "      <td>777.0</td>\n",
              "      <td>220</td>\n",
              "      <td>2016-12-17</td>\n",
              "      <td>11.0</td>\n",
              "      <td>Kentucky</td>\n",
              "    </tr>\n",
              "    <tr>\n",
              "      <th>743</th>\n",
              "      <td>2017-10-03</td>\n",
              "      <td>Yeezy</td>\n",
              "      <td>Adidas-Yeezy-Boost-350-V2-Cream-White</td>\n",
              "      <td>499.0</td>\n",
              "      <td>220</td>\n",
              "      <td>2017-04-29</td>\n",
              "      <td>12.0</td>\n",
              "      <td>Texas</td>\n",
              "    </tr>\n",
              "    <tr>\n",
              "      <th>744</th>\n",
              "      <td>2017-10-03</td>\n",
              "      <td>Yeezy</td>\n",
              "      <td>Adidas-Yeezy-Boost-350-V2-Cream-White</td>\n",
              "      <td>465.0</td>\n",
              "      <td>220</td>\n",
              "      <td>2017-04-29</td>\n",
              "      <td>9.0</td>\n",
              "      <td>New York</td>\n",
              "    </tr>\n",
              "    <tr>\n",
              "      <th>745</th>\n",
              "      <td>2017-10-03</td>\n",
              "      <td>Yeezy</td>\n",
              "      <td>Adidas-Yeezy-Boost-350-V2-Cream-White</td>\n",
              "      <td>572.0</td>\n",
              "      <td>220</td>\n",
              "      <td>2017-04-29</td>\n",
              "      <td>4.0</td>\n",
              "      <td>New York</td>\n",
              "    </tr>\n",
              "    <tr>\n",
              "      <th>746</th>\n",
              "      <td>2017-10-03</td>\n",
              "      <td>Yeezy</td>\n",
              "      <td>Adidas-Yeezy-Boost-350-V2-Cream-White</td>\n",
              "      <td>700.0</td>\n",
              "      <td>220</td>\n",
              "      <td>2017-04-29</td>\n",
              "      <td>16.0</td>\n",
              "      <td>Virginia</td>\n",
              "    </tr>\n",
              "    <tr>\n",
              "      <th>747</th>\n",
              "      <td>2017-10-03</td>\n",
              "      <td>Yeezy</td>\n",
              "      <td>Adidas-Yeezy-Boost-350-V2-Zebra</td>\n",
              "      <td>650.0</td>\n",
              "      <td>220</td>\n",
              "      <td>2017-02-25</td>\n",
              "      <td>12.0</td>\n",
              "      <td>Kentucky</td>\n",
              "    </tr>\n",
              "    <tr>\n",
              "      <th>748</th>\n",
              "      <td>2017-10-03</td>\n",
              "      <td>Yeezy</td>\n",
              "      <td>Adidas-Yeezy-Boost-350-V2-Zebra</td>\n",
              "      <td>670.0</td>\n",
              "      <td>220</td>\n",
              "      <td>2017-02-25</td>\n",
              "      <td>12.0</td>\n",
              "      <td>Indiana</td>\n",
              "    </tr>\n",
              "    <tr>\n",
              "      <th>749</th>\n",
              "      <td>2017-10-03</td>\n",
              "      <td>Yeezy</td>\n",
              "      <td>Adidas-Yeezy-Boost-350-V2-Zebra</td>\n",
              "      <td>720.0</td>\n",
              "      <td>220</td>\n",
              "      <td>2017-02-25</td>\n",
              "      <td>5.5</td>\n",
              "      <td>Oklahoma</td>\n",
              "    </tr>\n",
              "    <tr>\n",
              "      <th>750</th>\n",
              "      <td>2017-10-03</td>\n",
              "      <td>Yeezy</td>\n",
              "      <td>Adidas-Yeezy-Boost-350-V2-Zebra</td>\n",
              "      <td>569.0</td>\n",
              "      <td>220</td>\n",
              "      <td>2017-02-25</td>\n",
              "      <td>8.0</td>\n",
              "      <td>Iowa</td>\n",
              "    </tr>\n",
              "    <tr>\n",
              "      <th>751</th>\n",
              "      <td>2017-10-03</td>\n",
              "      <td>Yeezy</td>\n",
              "      <td>Adidas-Yeezy-Boost-350-V2-Zebra</td>\n",
              "      <td>560.0</td>\n",
              "      <td>220</td>\n",
              "      <td>2017-02-25</td>\n",
              "      <td>8.5</td>\n",
              "      <td>New York</td>\n",
              "    </tr>\n",
              "    <tr>\n",
              "      <th>752</th>\n",
              "      <td>2017-10-03</td>\n",
              "      <td>Yeezy</td>\n",
              "      <td>Adidas-Yeezy-Boost-350-V2-Zebra</td>\n",
              "      <td>550.0</td>\n",
              "      <td>220</td>\n",
              "      <td>2017-02-25</td>\n",
              "      <td>6.5</td>\n",
              "      <td>Florida</td>\n",
              "    </tr>\n",
              "    <tr>\n",
              "      <th>753</th>\n",
              "      <td>2017-10-03</td>\n",
              "      <td>Yeezy</td>\n",
              "      <td>Adidas-Yeezy-Boost-350-V2-Zebra</td>\n",
              "      <td>450.0</td>\n",
              "      <td>220</td>\n",
              "      <td>2017-02-25</td>\n",
              "      <td>14.0</td>\n",
              "      <td>Florida</td>\n",
              "    </tr>\n",
              "    <tr>\n",
              "      <th>754</th>\n",
              "      <td>2017-10-03</td>\n",
              "      <td>Yeezy</td>\n",
              "      <td>Adidas-Yeezy-Boost-350-V2-Zebra</td>\n",
              "      <td>665.0</td>\n",
              "      <td>220</td>\n",
              "      <td>2017-02-25</td>\n",
              "      <td>12.0</td>\n",
              "      <td>Texas</td>\n",
              "    </tr>\n",
              "    <tr>\n",
              "      <th>755</th>\n",
              "      <td>2017-10-03</td>\n",
              "      <td>Yeezy</td>\n",
              "      <td>Adidas-Yeezy-Boost-350-V2-Zebra</td>\n",
              "      <td>669.0</td>\n",
              "      <td>220</td>\n",
              "      <td>2017-02-25</td>\n",
              "      <td>12.0</td>\n",
              "      <td>Oregon</td>\n",
              "    </tr>\n",
              "    <tr>\n",
              "      <th>756</th>\n",
              "      <td>2017-10-03</td>\n",
              "      <td>Yeezy</td>\n",
              "      <td>Adidas-Yeezy-Boost-350-V2-Zebra</td>\n",
              "      <td>675.0</td>\n",
              "      <td>220</td>\n",
              "      <td>2017-02-25</td>\n",
              "      <td>12.0</td>\n",
              "      <td>California</td>\n",
              "    </tr>\n",
              "    <tr>\n",
              "      <th>757</th>\n",
              "      <td>2017-10-03</td>\n",
              "      <td>Off-White</td>\n",
              "      <td>Air-Jordan-1-Retro-High-Off-White-Chicago</td>\n",
              "      <td>1756.0</td>\n",
              "      <td>190</td>\n",
              "      <td>2017-09-09</td>\n",
              "      <td>10.0</td>\n",
              "      <td>Illinois</td>\n",
              "    </tr>\n",
              "    <tr>\n",
              "      <th>758</th>\n",
              "      <td>2017-10-03</td>\n",
              "      <td>Off-White</td>\n",
              "      <td>Air-Jordan-1-Retro-High-Off-White-Chicago</td>\n",
              "      <td>1947.0</td>\n",
              "      <td>190</td>\n",
              "      <td>2017-09-09</td>\n",
              "      <td>10.5</td>\n",
              "      <td>Texas</td>\n",
              "    </tr>\n",
              "    <tr>\n",
              "      <th>759</th>\n",
              "      <td>2017-10-03</td>\n",
              "      <td>Off-White</td>\n",
              "      <td>Nike-Air-Max-90-Off-White</td>\n",
              "      <td>850.0</td>\n",
              "      <td>160</td>\n",
              "      <td>2017-09-09</td>\n",
              "      <td>9.5</td>\n",
              "      <td>Utah</td>\n",
              "    </tr>\n",
              "    <tr>\n",
              "      <th>760</th>\n",
              "      <td>2017-10-03</td>\n",
              "      <td>Off-White</td>\n",
              "      <td>Nike-Air-Presto-Off-White</td>\n",
              "      <td>1060.0</td>\n",
              "      <td>160</td>\n",
              "      <td>2017-09-09</td>\n",
              "      <td>6.0</td>\n",
              "      <td>California</td>\n",
              "    </tr>\n",
              "    <tr>\n",
              "      <th>761</th>\n",
              "      <td>2017-10-03</td>\n",
              "      <td>Off-White</td>\n",
              "      <td>Nike-Air-Presto-Off-White</td>\n",
              "      <td>1250.0</td>\n",
              "      <td>160</td>\n",
              "      <td>2017-09-09</td>\n",
              "      <td>10.0</td>\n",
              "      <td>Michigan</td>\n",
              "    </tr>\n",
              "    <tr>\n",
              "      <th>762</th>\n",
              "      <td>2017-10-03</td>\n",
              "      <td>Off-White</td>\n",
              "      <td>Nike-Air-VaporMax-Off-White</td>\n",
              "      <td>965.0</td>\n",
              "      <td>250</td>\n",
              "      <td>2017-09-09</td>\n",
              "      <td>12.0</td>\n",
              "      <td>Ohio</td>\n",
              "    </tr>\n",
              "    <tr>\n",
              "      <th>763</th>\n",
              "      <td>2017-10-03</td>\n",
              "      <td>Off-White</td>\n",
              "      <td>Nike-Blazer-Mid-Off-White</td>\n",
              "      <td>745.0</td>\n",
              "      <td>130</td>\n",
              "      <td>2017-09-09</td>\n",
              "      <td>12.0</td>\n",
              "      <td>California</td>\n",
              "    </tr>\n",
              "  </tbody>\n",
              "</table>\n",
              "</div>\n",
              "      <button class=\"colab-df-convert\" onclick=\"convertToInteractive('df-b1a20b5a-b821-4dc2-a2b6-e1c89a5f3937')\"\n",
              "              title=\"Convert this dataframe to an interactive table.\"\n",
              "              style=\"display:none;\">\n",
              "        \n",
              "  <svg xmlns=\"http://www.w3.org/2000/svg\" height=\"24px\"viewBox=\"0 0 24 24\"\n",
              "       width=\"24px\">\n",
              "    <path d=\"M0 0h24v24H0V0z\" fill=\"none\"/>\n",
              "    <path d=\"M18.56 5.44l.94 2.06.94-2.06 2.06-.94-2.06-.94-.94-2.06-.94 2.06-2.06.94zm-11 1L8.5 8.5l.94-2.06 2.06-.94-2.06-.94L8.5 2.5l-.94 2.06-2.06.94zm10 10l.94 2.06.94-2.06 2.06-.94-2.06-.94-.94-2.06-.94 2.06-2.06.94z\"/><path d=\"M17.41 7.96l-1.37-1.37c-.4-.4-.92-.59-1.43-.59-.52 0-1.04.2-1.43.59L10.3 9.45l-7.72 7.72c-.78.78-.78 2.05 0 2.83L4 21.41c.39.39.9.59 1.41.59.51 0 1.02-.2 1.41-.59l7.78-7.78 2.81-2.81c.8-.78.8-2.07 0-2.86zM5.41 20L4 18.59l7.72-7.72 1.47 1.35L5.41 20z\"/>\n",
              "  </svg>\n",
              "      </button>\n",
              "      \n",
              "  <style>\n",
              "    .colab-df-container {\n",
              "      display:flex;\n",
              "      flex-wrap:wrap;\n",
              "      gap: 12px;\n",
              "    }\n",
              "\n",
              "    .colab-df-convert {\n",
              "      background-color: #E8F0FE;\n",
              "      border: none;\n",
              "      border-radius: 50%;\n",
              "      cursor: pointer;\n",
              "      display: none;\n",
              "      fill: #1967D2;\n",
              "      height: 32px;\n",
              "      padding: 0 0 0 0;\n",
              "      width: 32px;\n",
              "    }\n",
              "\n",
              "    .colab-df-convert:hover {\n",
              "      background-color: #E2EBFA;\n",
              "      box-shadow: 0px 1px 2px rgba(60, 64, 67, 0.3), 0px 1px 3px 1px rgba(60, 64, 67, 0.15);\n",
              "      fill: #174EA6;\n",
              "    }\n",
              "\n",
              "    [theme=dark] .colab-df-convert {\n",
              "      background-color: #3B4455;\n",
              "      fill: #D2E3FC;\n",
              "    }\n",
              "\n",
              "    [theme=dark] .colab-df-convert:hover {\n",
              "      background-color: #434B5C;\n",
              "      box-shadow: 0px 1px 3px 1px rgba(0, 0, 0, 0.15);\n",
              "      filter: drop-shadow(0px 1px 2px rgba(0, 0, 0, 0.3));\n",
              "      fill: #FFFFFF;\n",
              "    }\n",
              "  </style>\n",
              "\n",
              "      <script>\n",
              "        const buttonEl =\n",
              "          document.querySelector('#df-b1a20b5a-b821-4dc2-a2b6-e1c89a5f3937 button.colab-df-convert');\n",
              "        buttonEl.style.display =\n",
              "          google.colab.kernel.accessAllowed ? 'block' : 'none';\n",
              "\n",
              "        async function convertToInteractive(key) {\n",
              "          const element = document.querySelector('#df-b1a20b5a-b821-4dc2-a2b6-e1c89a5f3937');\n",
              "          const dataTable =\n",
              "            await google.colab.kernel.invokeFunction('convertToInteractive',\n",
              "                                                     [key], {});\n",
              "          if (!dataTable) return;\n",
              "\n",
              "          const docLinkHtml = 'Like what you see? Visit the ' +\n",
              "            '<a target=\"_blank\" href=https://colab.research.google.com/notebooks/data_table.ipynb>data table notebook</a>'\n",
              "            + ' to learn more about interactive tables.';\n",
              "          element.innerHTML = '';\n",
              "          dataTable['output_type'] = 'display_data';\n",
              "          await google.colab.output.renderOutput(dataTable, element);\n",
              "          const docLink = document.createElement('div');\n",
              "          docLink.innerHTML = docLinkHtml;\n",
              "          element.appendChild(docLink);\n",
              "        }\n",
              "      </script>\n",
              "    </div>\n",
              "  </div>\n",
              "  "
            ]
          },
          "metadata": {},
          "execution_count": 19
        }
      ]
    },
    {
      "cell_type": "code",
      "source": [
        "# တခြားရှာလို့ရတဲ့နည်းတွေက မိမိရှာချင်တဲ့ column ကို index ထားပြီး indexing နဲ့ slicing လုပ်ပြီးလဲ ရှာလို့ရတယ်။\n",
        "# နောက်ထပ်နည်းတွေက conditional operator တွေနဲ့ between method ကိုသုံးပြီးလည်း ရှာလို့ရပါတယ်။"
      ],
      "metadata": {
        "id": "1UQf-Txg7xTZ"
      },
      "execution_count": 20,
      "outputs": []
    },
    {
      "cell_type": "code",
      "source": [
        "# (၁၁-၈-၂၀၂၂)"
      ],
      "metadata": {
        "id": "ULUH52eg9fvn"
      },
      "execution_count": 21,
      "outputs": []
    }
  ]
}