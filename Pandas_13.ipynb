{
  "nbformat": 4,
  "nbformat_minor": 0,
  "metadata": {
    "colab": {
      "name": "Pandas_13.ipynb",
      "provenance": [],
      "authorship_tag": "ABX9TyNkyTLOl/9/Xfy8O/Hk5VNN",
      "include_colab_link": true
    },
    "kernelspec": {
      "name": "python3",
      "display_name": "Python 3"
    },
    "language_info": {
      "name": "python"
    }
  },
  "cells": [
    {
      "cell_type": "markdown",
      "metadata": {
        "id": "view-in-github",
        "colab_type": "text"
      },
      "source": [
        "<a href=\"https://colab.research.google.com/github/tomcat472/pandas_mm_tomcat/blob/main/Pandas_13.ipynb\" target=\"_parent\"><img src=\"https://colab.research.google.com/assets/colab-badge.svg\" alt=\"Open In Colab\"/></a>"
      ]
    },
    {
      "cell_type": "code",
      "execution_count": 1,
      "metadata": {
        "id": "i0ARZPHGB6Q2"
      },
      "outputs": [],
      "source": [
        "# importing library\n",
        "import pandas as pd\n",
        "import numpy as np"
      ]
    },
    {
      "cell_type": "code",
      "source": [
        "# google drive နှင့်လင့်ချိတ်ခြင်း\n",
        "from google.colab import drive\n",
        "drive.mount('/content/drive')"
      ],
      "metadata": {
        "colab": {
          "base_uri": "https://localhost:8080/"
        },
        "id": "v9P-JlDxDsxZ",
        "outputId": "06dfa6dd-c929-4b6c-ef85-1b4cd0758800"
      },
      "execution_count": 2,
      "outputs": [
        {
          "output_type": "stream",
          "name": "stdout",
          "text": [
            "Drive already mounted at /content/drive; to attempt to forcibly remount, call drive.mount(\"/content/drive\", force_remount=True).\n"
          ]
        }
      ]
    },
    {
      "cell_type": "code",
      "source": [
        "df=pd.read_csv('/content/drive/MyDrive/diamonds.csv')\n",
        "df.head()"
      ],
      "metadata": {
        "colab": {
          "base_uri": "https://localhost:8080/",
          "height": 206
        },
        "id": "oPhLfEy1D58u",
        "outputId": "c3c97f75-6478-4a31-8dca-d02fba9af255"
      },
      "execution_count": 3,
      "outputs": [
        {
          "output_type": "execute_result",
          "data": {
            "text/plain": [
              "   carat      cut color clarity  depth  table  price     x     y     z\n",
              "0   0.23    Ideal     E     SI2   61.5   55.0    326  3.95  3.98  2.43\n",
              "1   0.21  Premium     E     SI1   59.8   61.0    326  3.89  3.84  2.31\n",
              "2   0.23     Good     E     VS1   56.9   65.0    327  4.05  4.07  2.31\n",
              "3   0.29  Premium     I     VS2   62.4   58.0    334  4.20  4.23  2.63\n",
              "4   0.31     Good     J     SI2   63.3   58.0    335  4.34  4.35  2.75"
            ],
            "text/html": [
              "\n",
              "  <div id=\"df-1a26cfa0-8593-4ca5-b0c8-26dec25355f1\">\n",
              "    <div class=\"colab-df-container\">\n",
              "      <div>\n",
              "<style scoped>\n",
              "    .dataframe tbody tr th:only-of-type {\n",
              "        vertical-align: middle;\n",
              "    }\n",
              "\n",
              "    .dataframe tbody tr th {\n",
              "        vertical-align: top;\n",
              "    }\n",
              "\n",
              "    .dataframe thead th {\n",
              "        text-align: right;\n",
              "    }\n",
              "</style>\n",
              "<table border=\"1\" class=\"dataframe\">\n",
              "  <thead>\n",
              "    <tr style=\"text-align: right;\">\n",
              "      <th></th>\n",
              "      <th>carat</th>\n",
              "      <th>cut</th>\n",
              "      <th>color</th>\n",
              "      <th>clarity</th>\n",
              "      <th>depth</th>\n",
              "      <th>table</th>\n",
              "      <th>price</th>\n",
              "      <th>x</th>\n",
              "      <th>y</th>\n",
              "      <th>z</th>\n",
              "    </tr>\n",
              "  </thead>\n",
              "  <tbody>\n",
              "    <tr>\n",
              "      <th>0</th>\n",
              "      <td>0.23</td>\n",
              "      <td>Ideal</td>\n",
              "      <td>E</td>\n",
              "      <td>SI2</td>\n",
              "      <td>61.5</td>\n",
              "      <td>55.0</td>\n",
              "      <td>326</td>\n",
              "      <td>3.95</td>\n",
              "      <td>3.98</td>\n",
              "      <td>2.43</td>\n",
              "    </tr>\n",
              "    <tr>\n",
              "      <th>1</th>\n",
              "      <td>0.21</td>\n",
              "      <td>Premium</td>\n",
              "      <td>E</td>\n",
              "      <td>SI1</td>\n",
              "      <td>59.8</td>\n",
              "      <td>61.0</td>\n",
              "      <td>326</td>\n",
              "      <td>3.89</td>\n",
              "      <td>3.84</td>\n",
              "      <td>2.31</td>\n",
              "    </tr>\n",
              "    <tr>\n",
              "      <th>2</th>\n",
              "      <td>0.23</td>\n",
              "      <td>Good</td>\n",
              "      <td>E</td>\n",
              "      <td>VS1</td>\n",
              "      <td>56.9</td>\n",
              "      <td>65.0</td>\n",
              "      <td>327</td>\n",
              "      <td>4.05</td>\n",
              "      <td>4.07</td>\n",
              "      <td>2.31</td>\n",
              "    </tr>\n",
              "    <tr>\n",
              "      <th>3</th>\n",
              "      <td>0.29</td>\n",
              "      <td>Premium</td>\n",
              "      <td>I</td>\n",
              "      <td>VS2</td>\n",
              "      <td>62.4</td>\n",
              "      <td>58.0</td>\n",
              "      <td>334</td>\n",
              "      <td>4.20</td>\n",
              "      <td>4.23</td>\n",
              "      <td>2.63</td>\n",
              "    </tr>\n",
              "    <tr>\n",
              "      <th>4</th>\n",
              "      <td>0.31</td>\n",
              "      <td>Good</td>\n",
              "      <td>J</td>\n",
              "      <td>SI2</td>\n",
              "      <td>63.3</td>\n",
              "      <td>58.0</td>\n",
              "      <td>335</td>\n",
              "      <td>4.34</td>\n",
              "      <td>4.35</td>\n",
              "      <td>2.75</td>\n",
              "    </tr>\n",
              "  </tbody>\n",
              "</table>\n",
              "</div>\n",
              "      <button class=\"colab-df-convert\" onclick=\"convertToInteractive('df-1a26cfa0-8593-4ca5-b0c8-26dec25355f1')\"\n",
              "              title=\"Convert this dataframe to an interactive table.\"\n",
              "              style=\"display:none;\">\n",
              "        \n",
              "  <svg xmlns=\"http://www.w3.org/2000/svg\" height=\"24px\"viewBox=\"0 0 24 24\"\n",
              "       width=\"24px\">\n",
              "    <path d=\"M0 0h24v24H0V0z\" fill=\"none\"/>\n",
              "    <path d=\"M18.56 5.44l.94 2.06.94-2.06 2.06-.94-2.06-.94-.94-2.06-.94 2.06-2.06.94zm-11 1L8.5 8.5l.94-2.06 2.06-.94-2.06-.94L8.5 2.5l-.94 2.06-2.06.94zm10 10l.94 2.06.94-2.06 2.06-.94-2.06-.94-.94-2.06-.94 2.06-2.06.94z\"/><path d=\"M17.41 7.96l-1.37-1.37c-.4-.4-.92-.59-1.43-.59-.52 0-1.04.2-1.43.59L10.3 9.45l-7.72 7.72c-.78.78-.78 2.05 0 2.83L4 21.41c.39.39.9.59 1.41.59.51 0 1.02-.2 1.41-.59l7.78-7.78 2.81-2.81c.8-.78.8-2.07 0-2.86zM5.41 20L4 18.59l7.72-7.72 1.47 1.35L5.41 20z\"/>\n",
              "  </svg>\n",
              "      </button>\n",
              "      \n",
              "  <style>\n",
              "    .colab-df-container {\n",
              "      display:flex;\n",
              "      flex-wrap:wrap;\n",
              "      gap: 12px;\n",
              "    }\n",
              "\n",
              "    .colab-df-convert {\n",
              "      background-color: #E8F0FE;\n",
              "      border: none;\n",
              "      border-radius: 50%;\n",
              "      cursor: pointer;\n",
              "      display: none;\n",
              "      fill: #1967D2;\n",
              "      height: 32px;\n",
              "      padding: 0 0 0 0;\n",
              "      width: 32px;\n",
              "    }\n",
              "\n",
              "    .colab-df-convert:hover {\n",
              "      background-color: #E2EBFA;\n",
              "      box-shadow: 0px 1px 2px rgba(60, 64, 67, 0.3), 0px 1px 3px 1px rgba(60, 64, 67, 0.15);\n",
              "      fill: #174EA6;\n",
              "    }\n",
              "\n",
              "    [theme=dark] .colab-df-convert {\n",
              "      background-color: #3B4455;\n",
              "      fill: #D2E3FC;\n",
              "    }\n",
              "\n",
              "    [theme=dark] .colab-df-convert:hover {\n",
              "      background-color: #434B5C;\n",
              "      box-shadow: 0px 1px 3px 1px rgba(0, 0, 0, 0.15);\n",
              "      filter: drop-shadow(0px 1px 2px rgba(0, 0, 0, 0.3));\n",
              "      fill: #FFFFFF;\n",
              "    }\n",
              "  </style>\n",
              "\n",
              "      <script>\n",
              "        const buttonEl =\n",
              "          document.querySelector('#df-1a26cfa0-8593-4ca5-b0c8-26dec25355f1 button.colab-df-convert');\n",
              "        buttonEl.style.display =\n",
              "          google.colab.kernel.accessAllowed ? 'block' : 'none';\n",
              "\n",
              "        async function convertToInteractive(key) {\n",
              "          const element = document.querySelector('#df-1a26cfa0-8593-4ca5-b0c8-26dec25355f1');\n",
              "          const dataTable =\n",
              "            await google.colab.kernel.invokeFunction('convertToInteractive',\n",
              "                                                     [key], {});\n",
              "          if (!dataTable) return;\n",
              "\n",
              "          const docLinkHtml = 'Like what you see? Visit the ' +\n",
              "            '<a target=\"_blank\" href=https://colab.research.google.com/notebooks/data_table.ipynb>data table notebook</a>'\n",
              "            + ' to learn more about interactive tables.';\n",
              "          element.innerHTML = '';\n",
              "          dataTable['output_type'] = 'display_data';\n",
              "          await google.colab.output.renderOutput(dataTable, element);\n",
              "          const docLink = document.createElement('div');\n",
              "          docLink.innerHTML = docLinkHtml;\n",
              "          element.appendChild(docLink);\n",
              "        }\n",
              "      </script>\n",
              "    </div>\n",
              "  </div>\n",
              "  "
            ]
          },
          "metadata": {},
          "execution_count": 3
        }
      ]
    },
    {
      "cell_type": "code",
      "source": [
        "df.info()"
      ],
      "metadata": {
        "colab": {
          "base_uri": "https://localhost:8080/"
        },
        "id": "byeEkX1GEl8I",
        "outputId": "1c01cef2-73dc-4bb9-e9a4-791ca848f51d"
      },
      "execution_count": 4,
      "outputs": [
        {
          "output_type": "stream",
          "name": "stdout",
          "text": [
            "<class 'pandas.core.frame.DataFrame'>\n",
            "RangeIndex: 53940 entries, 0 to 53939\n",
            "Data columns (total 10 columns):\n",
            " #   Column   Non-Null Count  Dtype  \n",
            "---  ------   --------------  -----  \n",
            " 0   carat    53940 non-null  float64\n",
            " 1   cut      53940 non-null  object \n",
            " 2   color    53940 non-null  object \n",
            " 3   clarity  53940 non-null  object \n",
            " 4   depth    53940 non-null  float64\n",
            " 5   table    53940 non-null  float64\n",
            " 6   price    53940 non-null  int64  \n",
            " 7   x        53940 non-null  float64\n",
            " 8   y        53940 non-null  float64\n",
            " 9   z        53940 non-null  float64\n",
            "dtypes: float64(6), int64(1), object(3)\n",
            "memory usage: 4.1+ MB\n"
          ]
        }
      ]
    },
    {
      "cell_type": "code",
      "source": [
        "# null ဖြစ်/မဖြစ်ကြည့်ခြင်း\n",
        "# အပေါ်က info နဲ့ကြည့်ရင်လဲရပါတယ်။\n",
        "df.price.isna()"
      ],
      "metadata": {
        "colab": {
          "base_uri": "https://localhost:8080/"
        },
        "id": "fP8aIQhzGZEs",
        "outputId": "252c7f41-28b9-4b22-8cc2-dc4770a55a30"
      },
      "execution_count": 5,
      "outputs": [
        {
          "output_type": "execute_result",
          "data": {
            "text/plain": [
              "0        False\n",
              "1        False\n",
              "2        False\n",
              "3        False\n",
              "4        False\n",
              "         ...  \n",
              "53935    False\n",
              "53936    False\n",
              "53937    False\n",
              "53938    False\n",
              "53939    False\n",
              "Name: price, Length: 53940, dtype: bool"
            ]
          },
          "metadata": {},
          "execution_count": 5
        }
      ]
    },
    {
      "cell_type": "code",
      "source": [
        "df.price.isna().value_counts()\n",
        "# True ဖြစ်ရင် null ဖြစ်လို့ဖြစ်ပြီး False ဖြစ်ရင် data ရှိလို့ဖြစ်ပါတယ်။"
      ],
      "metadata": {
        "colab": {
          "base_uri": "https://localhost:8080/"
        },
        "id": "B6QOzpxJMQlT",
        "outputId": "d078c51d-aa03-43b4-b57e-c181d243983d"
      },
      "execution_count": 6,
      "outputs": [
        {
          "output_type": "execute_result",
          "data": {
            "text/plain": [
              "False    53940\n",
              "Name: price, dtype: int64"
            ]
          },
          "metadata": {},
          "execution_count": 6
        }
      ]
    },
    {
      "cell_type": "code",
      "source": [
        "df.price.notna().value_counts()\n",
        "# notna ကျတော့ data ရှိတဲ့ row ကိုရှာတာဖြစ်ပါတယ်။"
      ],
      "metadata": {
        "colab": {
          "base_uri": "https://localhost:8080/"
        },
        "id": "tdyFNWGlMVry",
        "outputId": "7e2e6406-a84a-40d2-97de-874db6d563c6"
      },
      "execution_count": 7,
      "outputs": [
        {
          "output_type": "execute_result",
          "data": {
            "text/plain": [
              "True    53940\n",
              "Name: price, dtype: int64"
            ]
          },
          "metadata": {},
          "execution_count": 7
        }
      ]
    },
    {
      "cell_type": "code",
      "source": [
        "# တကယ်လို့ ကိုယ့် df ထဲက null ဖြစ်နေတဲ့ data တွေကို မလိုချင်ရင် dropna နဲ့ဖယ်လို့ရပါတယ်။\n",
        "# df.column.dropna(inplace=True)\n",
        "\n",
        "# နောက်တမျိုးကျတော့ null ဖြစ်နေတဲ့နေရာတွေကို data ဖြည့်လို့ရပါတယ်။\n",
        "# df.column.fillna(0/np.mean)\n",
        "\n",
        "# လွယ်တဲ့အတွက် ကျနော်အသေးစိတ်မလုပ်ပြတော့ပါဘူး။"
      ],
      "metadata": {
        "id": "dy6mbOQsN49q"
      },
      "execution_count": 8,
      "outputs": []
    },
    {
      "cell_type": "code",
      "source": [
        "df.price.head()\n",
        "# ဈေးနှုန်းတန်ဖိုးတွေကို $ sign တပ်မယ်ဆိုရင် အရင်နေ့က function တွေသုံးပြီး တပ်လို့ရပါတယ်။"
      ],
      "metadata": {
        "colab": {
          "base_uri": "https://localhost:8080/"
        },
        "id": "4CaOAbsUO0pp",
        "outputId": "d9c22849-bad0-4f7b-8915-14a06e31ffd0"
      },
      "execution_count": 9,
      "outputs": [
        {
          "output_type": "execute_result",
          "data": {
            "text/plain": [
              "0    326\n",
              "1    326\n",
              "2    327\n",
              "3    334\n",
              "4    335\n",
              "Name: price, dtype: int64"
            ]
          },
          "metadata": {},
          "execution_count": 9
        }
      ]
    },
    {
      "cell_type": "code",
      "source": [
        "fun=lambda x:f'$ {x}'\n",
        "df.price.apply(fun).head()"
      ],
      "metadata": {
        "colab": {
          "base_uri": "https://localhost:8080/"
        },
        "id": "rgS_kLXZPDJI",
        "outputId": "5ff1ea62-07c9-41f9-aed0-3cc64566d587"
      },
      "execution_count": 10,
      "outputs": [
        {
          "output_type": "execute_result",
          "data": {
            "text/plain": [
              "0    $ 326\n",
              "1    $ 326\n",
              "2    $ 327\n",
              "3    $ 334\n",
              "4    $ 335\n",
              "Name: price, dtype: object"
            ]
          },
          "metadata": {},
          "execution_count": 10
        }
      ]
    },
    {
      "cell_type": "code",
      "source": [
        "# Group လုပ်ခြင်း\n",
        "df.groupby('color')"
      ],
      "metadata": {
        "colab": {
          "base_uri": "https://localhost:8080/"
        },
        "id": "_0ZLRbkVPblA",
        "outputId": "3042ccca-43b6-4a3f-d2e2-86c2115bb591"
      },
      "execution_count": 11,
      "outputs": [
        {
          "output_type": "execute_result",
          "data": {
            "text/plain": [
              "<pandas.core.groupby.generic.DataFrameGroupBy object at 0x7f2dc2ee65d0>"
            ]
          },
          "metadata": {},
          "execution_count": 11
        }
      ]
    },
    {
      "cell_type": "code",
      "source": [
        "df.groupby('color').price\n",
        "# df.groupby('color')['price']"
      ],
      "metadata": {
        "colab": {
          "base_uri": "https://localhost:8080/"
        },
        "id": "ZosDWlTGPvui",
        "outputId": "e293d06c-5acb-49b7-af74-f448b8464e66"
      },
      "execution_count": 12,
      "outputs": [
        {
          "output_type": "execute_result",
          "data": {
            "text/plain": [
              "<pandas.core.groupby.generic.SeriesGroupBy object at 0x7f2dc2ee6e10>"
            ]
          },
          "metadata": {},
          "execution_count": 12
        }
      ]
    },
    {
      "cell_type": "code",
      "source": [
        "# color အလိုက်အနည်းဆုံးတန်ဘိုးကိုရှာခြင်း\n",
        "df.groupby('color').price.min()"
      ],
      "metadata": {
        "colab": {
          "base_uri": "https://localhost:8080/"
        },
        "id": "dxJYYOrBP3KH",
        "outputId": "d0e0d2f9-09ce-4701-8779-b77cc231838c"
      },
      "execution_count": 13,
      "outputs": [
        {
          "output_type": "execute_result",
          "data": {
            "text/plain": [
              "color\n",
              "D    357\n",
              "E    326\n",
              "F    342\n",
              "G    354\n",
              "H    337\n",
              "I    334\n",
              "J    335\n",
              "Name: price, dtype: int64"
            ]
          },
          "metadata": {},
          "execution_count": 13
        }
      ]
    },
    {
      "cell_type": "code",
      "source": [
        "# color အလိုက်အများဆုံးတန်ဘိုးကိုရှာခြင်း\n",
        "df.groupby('color').price.max()"
      ],
      "metadata": {
        "colab": {
          "base_uri": "https://localhost:8080/"
        },
        "id": "h1ekdyICP-eY",
        "outputId": "bb3c4a17-9060-492d-eb8e-d2fc24b5edd3"
      },
      "execution_count": 14,
      "outputs": [
        {
          "output_type": "execute_result",
          "data": {
            "text/plain": [
              "color\n",
              "D    18693\n",
              "E    18731\n",
              "F    18791\n",
              "G    18818\n",
              "H    18803\n",
              "I    18823\n",
              "J    18710\n",
              "Name: price, dtype: int64"
            ]
          },
          "metadata": {},
          "execution_count": 14
        }
      ]
    },
    {
      "cell_type": "code",
      "source": [
        "# color အလိုက်တန်ဘိုးများအားပေါင်းခြင်း\n",
        "df.groupby('color').price.sum()"
      ],
      "metadata": {
        "colab": {
          "base_uri": "https://localhost:8080/"
        },
        "id": "6hDmrSU7Qsra",
        "outputId": "d7bb05ae-9e6e-4738-bab4-86a8e45b1330"
      },
      "execution_count": 15,
      "outputs": [
        {
          "output_type": "execute_result",
          "data": {
            "text/plain": [
              "color\n",
              "D    21476439\n",
              "E    30142944\n",
              "F    35542866\n",
              "G    45158240\n",
              "H    37257301\n",
              "I    27608146\n",
              "J    14949281\n",
              "Name: price, dtype: int64"
            ]
          },
          "metadata": {},
          "execution_count": 15
        }
      ]
    },
    {
      "cell_type": "code",
      "source": [
        "# ဒီနေရာမှာ col_1 နေရာမှာ category data(text data) ကိုရေးလေ့ရှိပြီး\n",
        "# col_2 မှာ number ကိုရေးလေ့ရှိပါတယ်။"
      ],
      "metadata": {
        "id": "ghlnO4nVQKR9"
      },
      "execution_count": 16,
      "outputs": []
    },
    {
      "cell_type": "code",
      "source": [
        "# group object ပြုလုပ်၍ တန်ဘိုးများအား ရှာခြင်း\n",
        "gbo=df.groupby('color').price\n",
        "gbo.ngroups"
      ],
      "metadata": {
        "colab": {
          "base_uri": "https://localhost:8080/"
        },
        "id": "oP5lYQgkTvr2",
        "outputId": "8814410e-9eef-460a-e5a8-f7c1dedbb32c"
      },
      "execution_count": 17,
      "outputs": [
        {
          "output_type": "execute_result",
          "data": {
            "text/plain": [
              "7"
            ]
          },
          "metadata": {},
          "execution_count": 17
        }
      ]
    },
    {
      "cell_type": "code",
      "source": [
        "# group အလိုက်တန်ဘိုးများအား ကြည့်ခြင်း\n",
        "gbo.groups\n",
        "# group object လုပ်လိုက်တဲ့အချိန်မှာ group အလိုက် name နဲ့ တန်ဖိုးတွေကိုတွေ့ရမှာဖြစ်ပါတယ်။"
      ],
      "metadata": {
        "colab": {
          "base_uri": "https://localhost:8080/"
        },
        "id": "R0_BMe04T5gX",
        "outputId": "26c798f7-f98d-4d13-9334-0c724f9a3303"
      },
      "execution_count": 18,
      "outputs": [
        {
          "output_type": "execute_result",
          "data": {
            "text/plain": [
              "{'D': [28, 34, 38, 42, 43, 54, 61, 62, 63, 70, 77, 78, 81, 100, 120, 127, 131, 132, 142, 144, 147, 148, 150, 152, 155, 159, 170, 171, 186, 219, 223, 224, 225, 226, 234, 238, 280, 288, 289, 290, 292, 303, 341, 345, 349, 350, 351, 372, 374, 379, 383, 422, 432, 447, 485, 495, 496, 497, 498, 500, 503, 505, 506, 509, 510, 516, 531, 536, 537, 541, 570, 571, 577, 624, 628, 629, 636, 645, 660, 673, 675, 676, 684, 695, 696, 711, 767, 768, 771, 772, 773, 776, 782, 784, 790, 791, 793, 804, 807, 808, ...], 'E': [0, 1, 2, 8, 14, 15, 21, 32, 33, 36, 48, 53, 69, 76, 79, 80, 82, 84, 90, 91, 93, 95, 98, 101, 109, 111, 118, 121, 133, 135, 149, 169, 173, 174, 178, 179, 180, 181, 191, 192, 193, 194, 195, 196, 197, 198, 200, 201, 202, 203, 206, 209, 221, 222, 241, 244, 245, 246, 249, 252, 253, 262, 263, 264, 265, 271, 272, 275, 276, 285, 287, 298, 301, 306, 327, 330, 332, 342, 343, 344, 355, 356, 371, 388, 405, 406, 415, 419, 424, 427, 429, 430, 431, 442, 443, 451, 453, 454, 456, 457, ...], 'F': [12, 29, 30, 31, 35, 45, 50, 75, 96, 97, 108, 110, 114, 115, 116, 119, 122, 123, 124, 125, 136, 137, 143, 154, 156, 162, 164, 166, 168, 176, 187, 188, 189, 190, 199, 205, 207, 210, 212, 215, 228, 229, 230, 232, 233, 240, 243, 258, 259, 260, 266, 267, 269, 278, 279, 291, 297, 302, 315, 316, 317, 319, 320, 321, 322, 326, 328, 329, 334, 335, 346, 347, 353, 354, 357, 359, 363, 364, 365, 368, 373, 375, 376, 377, 378, 380, 382, 387, 389, 407, 413, 416, 420, 421, 425, 433, 440, 448, 455, 466, ...], 'G': [25, 51, 65, 67, 68, 85, 92, 94, 102, 103, 105, 106, 113, 117, 139, 140, 141, 146, 153, 157, 158, 160, 163, 167, 177, 182, 183, 184, 185, 211, 213, 214, 220, 227, 239, 248, 250, 251, 256, 270, 283, 293, 296, 304, 308, 309, 311, 313, 314, 323, 325, 331, 333, 336, 337, 338, 339, 340, 358, 360, 361, 369, 370, 381, 386, 412, 414, 418, 426, 434, 444, 446, 473, 477, 521, 523, 555, 560, 563, 564, 575, 581, 599, 604, 613, 615, 616, 618, 635, 638, 646, 650, 669, 670, 674, 690, 694, 714, 717, 723, ...], 'H': [7, 9, 22, 37, 44, 46, 47, 49, 71, 72, 73, 74, 86, 87, 88, 99, 126, 128, 129, 130, 134, 138, 145, 161, 165, 204, 208, 216, 217, 218, 231, 235, 242, 254, 268, 274, 282, 286, 294, 295, 299, 310, 318, 348, 362, 367, 396, 397, 398, 399, 400, 401, 402, 404, 408, 409, 435, 436, 437, 438, 441, 449, 450, 465, 467, 472, 474, 514, 522, 524, 526, 538, 539, 540, 542, 550, 565, 573, 576, 589, 594, 620, 626, 655, 658, 659, 662, 663, 664, 671, 682, 686, 699, 701, 706, 715, 722, 737, 738, 750, ...], 'I': [3, 6, 16, 20, 26, 39, 40, 52, 55, 57, 58, 59, 60, 64, 66, 83, 89, 104, 107, 112, 151, 175, 236, 237, 257, 261, 273, 277, 281, 284, 300, 305, 307, 312, 352, 385, 390, 391, 392, 393, 394, 395, 403, 410, 411, 417, 428, 445, 452, 493, 511, 517, 529, 533, 554, 562, 568, 579, 639, 653, 654, 689, 692, 698, 713, 719, 730, 731, 732, 733, 734, 735, 747, 748, 749, 756, 787, 803, 821, 827, 840, 857, 861, 865, 878, 880, 883, 884, 898, 910, 934, 936, 944, 991, 992, 1034, 1037, 1040, 1057, 1058, ...], 'J': [4, 5, 10, 11, 13, 17, 18, 19, 23, 24, 27, 41, 56, 172, 247, 255, 324, 366, 384, 423, 439, 460, 499, 525, 567, 580, 681, 703, 704, 705, 710, 744, 745, 746, 765, 780, 813, 814, 860, 881, 882, 885, 897, 918, 921, 999, 1036, 1038, 1224, 1275, 1310, 1359, 1360, 1364, 1429, 1474, 1498, 1510, 1523, 1535, 1597, 1661, 1662, 1675, 1763, 1778, 1825, 1834, 1843, 1869, 1906, 1921, 1958, 1959, 1973, 2006, 2008, 2026, 2086, 2114, 2117, 2118, 2145, 2159, 2206, 2221, 2236, 2248, 2249, 2250, 2266, 2272, 2274, 2288, 2326, 2330, 2331, 2360, 2363, 2365, ...]}"
            ]
          },
          "metadata": {},
          "execution_count": 18
        }
      ]
    },
    {
      "cell_type": "code",
      "source": [
        "# group ထဲမှ တန်ဖိုးတခုအား ဆွဲထုတ်ခြင်း\n",
        "gbo.get_group('D')"
      ],
      "metadata": {
        "colab": {
          "base_uri": "https://localhost:8080/"
        },
        "id": "TWfSX839VdK6",
        "outputId": "0f511bc7-2c8f-44a0-b3e0-aa8502c7541f"
      },
      "execution_count": 19,
      "outputs": [
        {
          "output_type": "execute_result",
          "data": {
            "text/plain": [
              "28        357\n",
              "34        402\n",
              "38        403\n",
              "42        403\n",
              "43        403\n",
              "         ... \n",
              "53934    2757\n",
              "53935    2757\n",
              "53936    2757\n",
              "53937    2757\n",
              "53939    2757\n",
              "Name: price, Length: 6775, dtype: int64"
            ]
          },
          "metadata": {},
          "execution_count": 19
        }
      ]
    },
    {
      "cell_type": "code",
      "source": [
        "for name,group in gbo:\n",
        "  print(f'{name}----{group}')"
      ],
      "metadata": {
        "colab": {
          "base_uri": "https://localhost:8080/"
        },
        "id": "b1VmOBYkXW7o",
        "outputId": "629ae9d2-f9ef-43a9-831e-0e09c0cec324"
      },
      "execution_count": 20,
      "outputs": [
        {
          "output_type": "stream",
          "name": "stdout",
          "text": [
            "D----28        357\n",
            "34        402\n",
            "38        403\n",
            "42        403\n",
            "43        403\n",
            "         ... \n",
            "53934    2757\n",
            "53935    2757\n",
            "53936    2757\n",
            "53937    2757\n",
            "53939    2757\n",
            "Name: price, Length: 6775, dtype: int64\n",
            "E----0         326\n",
            "1         326\n",
            "2         327\n",
            "8         337\n",
            "14        345\n",
            "         ... \n",
            "53926    2756\n",
            "53928    2756\n",
            "53930    2756\n",
            "53932    2757\n",
            "53933    2757\n",
            "Name: price, Length: 9797, dtype: int64\n",
            "F----12        342\n",
            "29        357\n",
            "30        402\n",
            "31        402\n",
            "35        402\n",
            "         ... \n",
            "53893    2751\n",
            "53895    2751\n",
            "53912    2753\n",
            "53927    2756\n",
            "53931    2756\n",
            "Name: price, Length: 9542, dtype: int64\n",
            "G----25        354\n",
            "51        404\n",
            "65        553\n",
            "67        553\n",
            "68        553\n",
            "         ... \n",
            "53889    2749\n",
            "53894    2751\n",
            "53896    2751\n",
            "53913    2753\n",
            "53929    2756\n",
            "Name: price, Length: 11292, dtype: int64\n",
            "H----7         337\n",
            "9         338\n",
            "22        353\n",
            "37        402\n",
            "44        403\n",
            "         ... \n",
            "53872    2744\n",
            "53897    2751\n",
            "53899    2752\n",
            "53900    2752\n",
            "53938    2757\n",
            "Name: price, Length: 8304, dtype: int64\n",
            "I----3         334\n",
            "6         336\n",
            "16        348\n",
            "20        351\n",
            "26        355\n",
            "         ... \n",
            "53918    2753\n",
            "53919    2753\n",
            "53923    2756\n",
            "53924    2756\n",
            "53925    2756\n",
            "Name: price, Length: 5422, dtype: int64\n",
            "J----4         335\n",
            "5         336\n",
            "10        339\n",
            "11        340\n",
            "13        344\n",
            "         ... \n",
            "53702    2717\n",
            "53787    2729\n",
            "53848    2741\n",
            "53852    2742\n",
            "53917    2753\n",
            "Name: price, Length: 2808, dtype: int64\n"
          ]
        }
      ]
    },
    {
      "cell_type": "code",
      "source": [
        "gbo.agg(['min','max','median','mean',np.sum])\n",
        "# group ထဲမှ တန်ဖိုးများ၏ min,max,... အစရှိသည်တို့ကိုရှာခြင်း"
      ],
      "metadata": {
        "colab": {
          "base_uri": "https://localhost:8080/",
          "height": 300
        },
        "id": "oRuavE4QX1DZ",
        "outputId": "b5b892bc-d473-405b-a57e-25ea918f56df"
      },
      "execution_count": 21,
      "outputs": [
        {
          "output_type": "execute_result",
          "data": {
            "text/plain": [
              "       min    max  median         mean       sum\n",
              "color                                           \n",
              "D      357  18693  1838.0  3169.954096  21476439\n",
              "E      326  18731  1739.0  3076.752475  30142944\n",
              "F      342  18791  2343.5  3724.886397  35542866\n",
              "G      354  18818  2242.0  3999.135671  45158240\n",
              "H      337  18803  3460.0  4486.669196  37257301\n",
              "I      334  18823  3730.0  5091.874954  27608146\n",
              "J      335  18710  4234.0  5323.818020  14949281"
            ],
            "text/html": [
              "\n",
              "  <div id=\"df-b0dcd66c-c1ff-4c3e-ab7a-d5690153a8e1\">\n",
              "    <div class=\"colab-df-container\">\n",
              "      <div>\n",
              "<style scoped>\n",
              "    .dataframe tbody tr th:only-of-type {\n",
              "        vertical-align: middle;\n",
              "    }\n",
              "\n",
              "    .dataframe tbody tr th {\n",
              "        vertical-align: top;\n",
              "    }\n",
              "\n",
              "    .dataframe thead th {\n",
              "        text-align: right;\n",
              "    }\n",
              "</style>\n",
              "<table border=\"1\" class=\"dataframe\">\n",
              "  <thead>\n",
              "    <tr style=\"text-align: right;\">\n",
              "      <th></th>\n",
              "      <th>min</th>\n",
              "      <th>max</th>\n",
              "      <th>median</th>\n",
              "      <th>mean</th>\n",
              "      <th>sum</th>\n",
              "    </tr>\n",
              "    <tr>\n",
              "      <th>color</th>\n",
              "      <th></th>\n",
              "      <th></th>\n",
              "      <th></th>\n",
              "      <th></th>\n",
              "      <th></th>\n",
              "    </tr>\n",
              "  </thead>\n",
              "  <tbody>\n",
              "    <tr>\n",
              "      <th>D</th>\n",
              "      <td>357</td>\n",
              "      <td>18693</td>\n",
              "      <td>1838.0</td>\n",
              "      <td>3169.954096</td>\n",
              "      <td>21476439</td>\n",
              "    </tr>\n",
              "    <tr>\n",
              "      <th>E</th>\n",
              "      <td>326</td>\n",
              "      <td>18731</td>\n",
              "      <td>1739.0</td>\n",
              "      <td>3076.752475</td>\n",
              "      <td>30142944</td>\n",
              "    </tr>\n",
              "    <tr>\n",
              "      <th>F</th>\n",
              "      <td>342</td>\n",
              "      <td>18791</td>\n",
              "      <td>2343.5</td>\n",
              "      <td>3724.886397</td>\n",
              "      <td>35542866</td>\n",
              "    </tr>\n",
              "    <tr>\n",
              "      <th>G</th>\n",
              "      <td>354</td>\n",
              "      <td>18818</td>\n",
              "      <td>2242.0</td>\n",
              "      <td>3999.135671</td>\n",
              "      <td>45158240</td>\n",
              "    </tr>\n",
              "    <tr>\n",
              "      <th>H</th>\n",
              "      <td>337</td>\n",
              "      <td>18803</td>\n",
              "      <td>3460.0</td>\n",
              "      <td>4486.669196</td>\n",
              "      <td>37257301</td>\n",
              "    </tr>\n",
              "    <tr>\n",
              "      <th>I</th>\n",
              "      <td>334</td>\n",
              "      <td>18823</td>\n",
              "      <td>3730.0</td>\n",
              "      <td>5091.874954</td>\n",
              "      <td>27608146</td>\n",
              "    </tr>\n",
              "    <tr>\n",
              "      <th>J</th>\n",
              "      <td>335</td>\n",
              "      <td>18710</td>\n",
              "      <td>4234.0</td>\n",
              "      <td>5323.818020</td>\n",
              "      <td>14949281</td>\n",
              "    </tr>\n",
              "  </tbody>\n",
              "</table>\n",
              "</div>\n",
              "      <button class=\"colab-df-convert\" onclick=\"convertToInteractive('df-b0dcd66c-c1ff-4c3e-ab7a-d5690153a8e1')\"\n",
              "              title=\"Convert this dataframe to an interactive table.\"\n",
              "              style=\"display:none;\">\n",
              "        \n",
              "  <svg xmlns=\"http://www.w3.org/2000/svg\" height=\"24px\"viewBox=\"0 0 24 24\"\n",
              "       width=\"24px\">\n",
              "    <path d=\"M0 0h24v24H0V0z\" fill=\"none\"/>\n",
              "    <path d=\"M18.56 5.44l.94 2.06.94-2.06 2.06-.94-2.06-.94-.94-2.06-.94 2.06-2.06.94zm-11 1L8.5 8.5l.94-2.06 2.06-.94-2.06-.94L8.5 2.5l-.94 2.06-2.06.94zm10 10l.94 2.06.94-2.06 2.06-.94-2.06-.94-.94-2.06-.94 2.06-2.06.94z\"/><path d=\"M17.41 7.96l-1.37-1.37c-.4-.4-.92-.59-1.43-.59-.52 0-1.04.2-1.43.59L10.3 9.45l-7.72 7.72c-.78.78-.78 2.05 0 2.83L4 21.41c.39.39.9.59 1.41.59.51 0 1.02-.2 1.41-.59l7.78-7.78 2.81-2.81c.8-.78.8-2.07 0-2.86zM5.41 20L4 18.59l7.72-7.72 1.47 1.35L5.41 20z\"/>\n",
              "  </svg>\n",
              "      </button>\n",
              "      \n",
              "  <style>\n",
              "    .colab-df-container {\n",
              "      display:flex;\n",
              "      flex-wrap:wrap;\n",
              "      gap: 12px;\n",
              "    }\n",
              "\n",
              "    .colab-df-convert {\n",
              "      background-color: #E8F0FE;\n",
              "      border: none;\n",
              "      border-radius: 50%;\n",
              "      cursor: pointer;\n",
              "      display: none;\n",
              "      fill: #1967D2;\n",
              "      height: 32px;\n",
              "      padding: 0 0 0 0;\n",
              "      width: 32px;\n",
              "    }\n",
              "\n",
              "    .colab-df-convert:hover {\n",
              "      background-color: #E2EBFA;\n",
              "      box-shadow: 0px 1px 2px rgba(60, 64, 67, 0.3), 0px 1px 3px 1px rgba(60, 64, 67, 0.15);\n",
              "      fill: #174EA6;\n",
              "    }\n",
              "\n",
              "    [theme=dark] .colab-df-convert {\n",
              "      background-color: #3B4455;\n",
              "      fill: #D2E3FC;\n",
              "    }\n",
              "\n",
              "    [theme=dark] .colab-df-convert:hover {\n",
              "      background-color: #434B5C;\n",
              "      box-shadow: 0px 1px 3px 1px rgba(0, 0, 0, 0.15);\n",
              "      filter: drop-shadow(0px 1px 2px rgba(0, 0, 0, 0.3));\n",
              "      fill: #FFFFFF;\n",
              "    }\n",
              "  </style>\n",
              "\n",
              "      <script>\n",
              "        const buttonEl =\n",
              "          document.querySelector('#df-b0dcd66c-c1ff-4c3e-ab7a-d5690153a8e1 button.colab-df-convert');\n",
              "        buttonEl.style.display =\n",
              "          google.colab.kernel.accessAllowed ? 'block' : 'none';\n",
              "\n",
              "        async function convertToInteractive(key) {\n",
              "          const element = document.querySelector('#df-b0dcd66c-c1ff-4c3e-ab7a-d5690153a8e1');\n",
              "          const dataTable =\n",
              "            await google.colab.kernel.invokeFunction('convertToInteractive',\n",
              "                                                     [key], {});\n",
              "          if (!dataTable) return;\n",
              "\n",
              "          const docLinkHtml = 'Like what you see? Visit the ' +\n",
              "            '<a target=\"_blank\" href=https://colab.research.google.com/notebooks/data_table.ipynb>data table notebook</a>'\n",
              "            + ' to learn more about interactive tables.';\n",
              "          element.innerHTML = '';\n",
              "          dataTable['output_type'] = 'display_data';\n",
              "          await google.colab.output.renderOutput(dataTable, element);\n",
              "          const docLink = document.createElement('div');\n",
              "          docLink.innerHTML = docLinkHtml;\n",
              "          element.appendChild(docLink);\n",
              "        }\n",
              "      </script>\n",
              "    </div>\n",
              "  </div>\n",
              "  "
            ]
          },
          "metadata": {},
          "execution_count": 21
        }
      ]
    },
    {
      "cell_type": "code",
      "source": [
        "# function ဆောက်ပြီးလဲ group တန်ဘိုးများကို ရှာလို့ရပါတယ်။\n",
        "def range(g):\n",
        "  return g.max()-g.min()"
      ],
      "metadata": {
        "id": "pYElmXhtYEhQ"
      },
      "execution_count": 22,
      "outputs": []
    },
    {
      "cell_type": "code",
      "source": [
        "df.groupby('color')['price'].agg(['min','max',range])"
      ],
      "metadata": {
        "colab": {
          "base_uri": "https://localhost:8080/",
          "height": 300
        },
        "id": "4QGHae6WYiFb",
        "outputId": "d0f43522-4407-42ca-e96c-25d8747356a3"
      },
      "execution_count": 23,
      "outputs": [
        {
          "output_type": "execute_result",
          "data": {
            "text/plain": [
              "       min    max  range\n",
              "color                   \n",
              "D      357  18693  18336\n",
              "E      326  18731  18405\n",
              "F      342  18791  18449\n",
              "G      354  18818  18464\n",
              "H      337  18803  18466\n",
              "I      334  18823  18489\n",
              "J      335  18710  18375"
            ],
            "text/html": [
              "\n",
              "  <div id=\"df-86741a47-1c3b-4396-a3bc-9e5e04ea1d98\">\n",
              "    <div class=\"colab-df-container\">\n",
              "      <div>\n",
              "<style scoped>\n",
              "    .dataframe tbody tr th:only-of-type {\n",
              "        vertical-align: middle;\n",
              "    }\n",
              "\n",
              "    .dataframe tbody tr th {\n",
              "        vertical-align: top;\n",
              "    }\n",
              "\n",
              "    .dataframe thead th {\n",
              "        text-align: right;\n",
              "    }\n",
              "</style>\n",
              "<table border=\"1\" class=\"dataframe\">\n",
              "  <thead>\n",
              "    <tr style=\"text-align: right;\">\n",
              "      <th></th>\n",
              "      <th>min</th>\n",
              "      <th>max</th>\n",
              "      <th>range</th>\n",
              "    </tr>\n",
              "    <tr>\n",
              "      <th>color</th>\n",
              "      <th></th>\n",
              "      <th></th>\n",
              "      <th></th>\n",
              "    </tr>\n",
              "  </thead>\n",
              "  <tbody>\n",
              "    <tr>\n",
              "      <th>D</th>\n",
              "      <td>357</td>\n",
              "      <td>18693</td>\n",
              "      <td>18336</td>\n",
              "    </tr>\n",
              "    <tr>\n",
              "      <th>E</th>\n",
              "      <td>326</td>\n",
              "      <td>18731</td>\n",
              "      <td>18405</td>\n",
              "    </tr>\n",
              "    <tr>\n",
              "      <th>F</th>\n",
              "      <td>342</td>\n",
              "      <td>18791</td>\n",
              "      <td>18449</td>\n",
              "    </tr>\n",
              "    <tr>\n",
              "      <th>G</th>\n",
              "      <td>354</td>\n",
              "      <td>18818</td>\n",
              "      <td>18464</td>\n",
              "    </tr>\n",
              "    <tr>\n",
              "      <th>H</th>\n",
              "      <td>337</td>\n",
              "      <td>18803</td>\n",
              "      <td>18466</td>\n",
              "    </tr>\n",
              "    <tr>\n",
              "      <th>I</th>\n",
              "      <td>334</td>\n",
              "      <td>18823</td>\n",
              "      <td>18489</td>\n",
              "    </tr>\n",
              "    <tr>\n",
              "      <th>J</th>\n",
              "      <td>335</td>\n",
              "      <td>18710</td>\n",
              "      <td>18375</td>\n",
              "    </tr>\n",
              "  </tbody>\n",
              "</table>\n",
              "</div>\n",
              "      <button class=\"colab-df-convert\" onclick=\"convertToInteractive('df-86741a47-1c3b-4396-a3bc-9e5e04ea1d98')\"\n",
              "              title=\"Convert this dataframe to an interactive table.\"\n",
              "              style=\"display:none;\">\n",
              "        \n",
              "  <svg xmlns=\"http://www.w3.org/2000/svg\" height=\"24px\"viewBox=\"0 0 24 24\"\n",
              "       width=\"24px\">\n",
              "    <path d=\"M0 0h24v24H0V0z\" fill=\"none\"/>\n",
              "    <path d=\"M18.56 5.44l.94 2.06.94-2.06 2.06-.94-2.06-.94-.94-2.06-.94 2.06-2.06.94zm-11 1L8.5 8.5l.94-2.06 2.06-.94-2.06-.94L8.5 2.5l-.94 2.06-2.06.94zm10 10l.94 2.06.94-2.06 2.06-.94-2.06-.94-.94-2.06-.94 2.06-2.06.94z\"/><path d=\"M17.41 7.96l-1.37-1.37c-.4-.4-.92-.59-1.43-.59-.52 0-1.04.2-1.43.59L10.3 9.45l-7.72 7.72c-.78.78-.78 2.05 0 2.83L4 21.41c.39.39.9.59 1.41.59.51 0 1.02-.2 1.41-.59l7.78-7.78 2.81-2.81c.8-.78.8-2.07 0-2.86zM5.41 20L4 18.59l7.72-7.72 1.47 1.35L5.41 20z\"/>\n",
              "  </svg>\n",
              "      </button>\n",
              "      \n",
              "  <style>\n",
              "    .colab-df-container {\n",
              "      display:flex;\n",
              "      flex-wrap:wrap;\n",
              "      gap: 12px;\n",
              "    }\n",
              "\n",
              "    .colab-df-convert {\n",
              "      background-color: #E8F0FE;\n",
              "      border: none;\n",
              "      border-radius: 50%;\n",
              "      cursor: pointer;\n",
              "      display: none;\n",
              "      fill: #1967D2;\n",
              "      height: 32px;\n",
              "      padding: 0 0 0 0;\n",
              "      width: 32px;\n",
              "    }\n",
              "\n",
              "    .colab-df-convert:hover {\n",
              "      background-color: #E2EBFA;\n",
              "      box-shadow: 0px 1px 2px rgba(60, 64, 67, 0.3), 0px 1px 3px 1px rgba(60, 64, 67, 0.15);\n",
              "      fill: #174EA6;\n",
              "    }\n",
              "\n",
              "    [theme=dark] .colab-df-convert {\n",
              "      background-color: #3B4455;\n",
              "      fill: #D2E3FC;\n",
              "    }\n",
              "\n",
              "    [theme=dark] .colab-df-convert:hover {\n",
              "      background-color: #434B5C;\n",
              "      box-shadow: 0px 1px 3px 1px rgba(0, 0, 0, 0.15);\n",
              "      filter: drop-shadow(0px 1px 2px rgba(0, 0, 0, 0.3));\n",
              "      fill: #FFFFFF;\n",
              "    }\n",
              "  </style>\n",
              "\n",
              "      <script>\n",
              "        const buttonEl =\n",
              "          document.querySelector('#df-86741a47-1c3b-4396-a3bc-9e5e04ea1d98 button.colab-df-convert');\n",
              "        buttonEl.style.display =\n",
              "          google.colab.kernel.accessAllowed ? 'block' : 'none';\n",
              "\n",
              "        async function convertToInteractive(key) {\n",
              "          const element = document.querySelector('#df-86741a47-1c3b-4396-a3bc-9e5e04ea1d98');\n",
              "          const dataTable =\n",
              "            await google.colab.kernel.invokeFunction('convertToInteractive',\n",
              "                                                     [key], {});\n",
              "          if (!dataTable) return;\n",
              "\n",
              "          const docLinkHtml = 'Like what you see? Visit the ' +\n",
              "            '<a target=\"_blank\" href=https://colab.research.google.com/notebooks/data_table.ipynb>data table notebook</a>'\n",
              "            + ' to learn more about interactive tables.';\n",
              "          element.innerHTML = '';\n",
              "          dataTable['output_type'] = 'display_data';\n",
              "          await google.colab.output.renderOutput(dataTable, element);\n",
              "          const docLink = document.createElement('div');\n",
              "          docLink.innerHTML = docLinkHtml;\n",
              "          element.appendChild(docLink);\n",
              "        }\n",
              "      </script>\n",
              "    </div>\n",
              "  </div>\n",
              "  "
            ]
          },
          "metadata": {},
          "execution_count": 23
        }
      ]
    },
    {
      "cell_type": "code",
      "source": [
        "df.groupby('cut').agg({'price':['min',range],'table':['min','mean']})"
      ],
      "metadata": {
        "colab": {
          "base_uri": "https://localhost:8080/",
          "height": 269
        },
        "id": "YR8BVXx6Yue5",
        "outputId": "c68c4983-6129-4447-df13-a75077f844a9"
      },
      "execution_count": 24,
      "outputs": [
        {
          "output_type": "execute_result",
          "data": {
            "text/plain": [
              "          price        table           \n",
              "            min  range   min       mean\n",
              "cut                                    \n",
              "Fair        337  18237  49.0  59.053789\n",
              "Good        327  18461  51.0  58.694639\n",
              "Ideal       326  18480  43.0  55.951668\n",
              "Premium     326  18497  51.0  58.746095\n",
              "Very Good   336  18482  44.0  57.956150"
            ],
            "text/html": [
              "\n",
              "  <div id=\"df-ce14d8e4-446a-442b-a045-00e6438d66c5\">\n",
              "    <div class=\"colab-df-container\">\n",
              "      <div>\n",
              "<style scoped>\n",
              "    .dataframe tbody tr th:only-of-type {\n",
              "        vertical-align: middle;\n",
              "    }\n",
              "\n",
              "    .dataframe tbody tr th {\n",
              "        vertical-align: top;\n",
              "    }\n",
              "\n",
              "    .dataframe thead tr th {\n",
              "        text-align: left;\n",
              "    }\n",
              "\n",
              "    .dataframe thead tr:last-of-type th {\n",
              "        text-align: right;\n",
              "    }\n",
              "</style>\n",
              "<table border=\"1\" class=\"dataframe\">\n",
              "  <thead>\n",
              "    <tr>\n",
              "      <th></th>\n",
              "      <th colspan=\"2\" halign=\"left\">price</th>\n",
              "      <th colspan=\"2\" halign=\"left\">table</th>\n",
              "    </tr>\n",
              "    <tr>\n",
              "      <th></th>\n",
              "      <th>min</th>\n",
              "      <th>range</th>\n",
              "      <th>min</th>\n",
              "      <th>mean</th>\n",
              "    </tr>\n",
              "    <tr>\n",
              "      <th>cut</th>\n",
              "      <th></th>\n",
              "      <th></th>\n",
              "      <th></th>\n",
              "      <th></th>\n",
              "    </tr>\n",
              "  </thead>\n",
              "  <tbody>\n",
              "    <tr>\n",
              "      <th>Fair</th>\n",
              "      <td>337</td>\n",
              "      <td>18237</td>\n",
              "      <td>49.0</td>\n",
              "      <td>59.053789</td>\n",
              "    </tr>\n",
              "    <tr>\n",
              "      <th>Good</th>\n",
              "      <td>327</td>\n",
              "      <td>18461</td>\n",
              "      <td>51.0</td>\n",
              "      <td>58.694639</td>\n",
              "    </tr>\n",
              "    <tr>\n",
              "      <th>Ideal</th>\n",
              "      <td>326</td>\n",
              "      <td>18480</td>\n",
              "      <td>43.0</td>\n",
              "      <td>55.951668</td>\n",
              "    </tr>\n",
              "    <tr>\n",
              "      <th>Premium</th>\n",
              "      <td>326</td>\n",
              "      <td>18497</td>\n",
              "      <td>51.0</td>\n",
              "      <td>58.746095</td>\n",
              "    </tr>\n",
              "    <tr>\n",
              "      <th>Very Good</th>\n",
              "      <td>336</td>\n",
              "      <td>18482</td>\n",
              "      <td>44.0</td>\n",
              "      <td>57.956150</td>\n",
              "    </tr>\n",
              "  </tbody>\n",
              "</table>\n",
              "</div>\n",
              "      <button class=\"colab-df-convert\" onclick=\"convertToInteractive('df-ce14d8e4-446a-442b-a045-00e6438d66c5')\"\n",
              "              title=\"Convert this dataframe to an interactive table.\"\n",
              "              style=\"display:none;\">\n",
              "        \n",
              "  <svg xmlns=\"http://www.w3.org/2000/svg\" height=\"24px\"viewBox=\"0 0 24 24\"\n",
              "       width=\"24px\">\n",
              "    <path d=\"M0 0h24v24H0V0z\" fill=\"none\"/>\n",
              "    <path d=\"M18.56 5.44l.94 2.06.94-2.06 2.06-.94-2.06-.94-.94-2.06-.94 2.06-2.06.94zm-11 1L8.5 8.5l.94-2.06 2.06-.94-2.06-.94L8.5 2.5l-.94 2.06-2.06.94zm10 10l.94 2.06.94-2.06 2.06-.94-2.06-.94-.94-2.06-.94 2.06-2.06.94z\"/><path d=\"M17.41 7.96l-1.37-1.37c-.4-.4-.92-.59-1.43-.59-.52 0-1.04.2-1.43.59L10.3 9.45l-7.72 7.72c-.78.78-.78 2.05 0 2.83L4 21.41c.39.39.9.59 1.41.59.51 0 1.02-.2 1.41-.59l7.78-7.78 2.81-2.81c.8-.78.8-2.07 0-2.86zM5.41 20L4 18.59l7.72-7.72 1.47 1.35L5.41 20z\"/>\n",
              "  </svg>\n",
              "      </button>\n",
              "      \n",
              "  <style>\n",
              "    .colab-df-container {\n",
              "      display:flex;\n",
              "      flex-wrap:wrap;\n",
              "      gap: 12px;\n",
              "    }\n",
              "\n",
              "    .colab-df-convert {\n",
              "      background-color: #E8F0FE;\n",
              "      border: none;\n",
              "      border-radius: 50%;\n",
              "      cursor: pointer;\n",
              "      display: none;\n",
              "      fill: #1967D2;\n",
              "      height: 32px;\n",
              "      padding: 0 0 0 0;\n",
              "      width: 32px;\n",
              "    }\n",
              "\n",
              "    .colab-df-convert:hover {\n",
              "      background-color: #E2EBFA;\n",
              "      box-shadow: 0px 1px 2px rgba(60, 64, 67, 0.3), 0px 1px 3px 1px rgba(60, 64, 67, 0.15);\n",
              "      fill: #174EA6;\n",
              "    }\n",
              "\n",
              "    [theme=dark] .colab-df-convert {\n",
              "      background-color: #3B4455;\n",
              "      fill: #D2E3FC;\n",
              "    }\n",
              "\n",
              "    [theme=dark] .colab-df-convert:hover {\n",
              "      background-color: #434B5C;\n",
              "      box-shadow: 0px 1px 3px 1px rgba(0, 0, 0, 0.15);\n",
              "      filter: drop-shadow(0px 1px 2px rgba(0, 0, 0, 0.3));\n",
              "      fill: #FFFFFF;\n",
              "    }\n",
              "  </style>\n",
              "\n",
              "      <script>\n",
              "        const buttonEl =\n",
              "          document.querySelector('#df-ce14d8e4-446a-442b-a045-00e6438d66c5 button.colab-df-convert');\n",
              "        buttonEl.style.display =\n",
              "          google.colab.kernel.accessAllowed ? 'block' : 'none';\n",
              "\n",
              "        async function convertToInteractive(key) {\n",
              "          const element = document.querySelector('#df-ce14d8e4-446a-442b-a045-00e6438d66c5');\n",
              "          const dataTable =\n",
              "            await google.colab.kernel.invokeFunction('convertToInteractive',\n",
              "                                                     [key], {});\n",
              "          if (!dataTable) return;\n",
              "\n",
              "          const docLinkHtml = 'Like what you see? Visit the ' +\n",
              "            '<a target=\"_blank\" href=https://colab.research.google.com/notebooks/data_table.ipynb>data table notebook</a>'\n",
              "            + ' to learn more about interactive tables.';\n",
              "          element.innerHTML = '';\n",
              "          dataTable['output_type'] = 'display_data';\n",
              "          await google.colab.output.renderOutput(dataTable, element);\n",
              "          const docLink = document.createElement('div');\n",
              "          docLink.innerHTML = docLinkHtml;\n",
              "          element.appendChild(docLink);\n",
              "        }\n",
              "      </script>\n",
              "    </div>\n",
              "  </div>\n",
              "  "
            ]
          },
          "metadata": {},
          "execution_count": 24
        }
      ]
    },
    {
      "cell_type": "code",
      "source": [
        "# ဒီလောက်ဆိုရင် group အကြောင်းသဘောပေါက်ပြီလို့ယူဆပါတယ်။\n",
        "# merge နဲ့ concat လုပ်တာက လက်တွေ့ဘဝမှာ အသုံးနည်းတဲ့အတွက် ဆက်မရှင်းပြတော့ပါဘူး။\n",
        "# ဒါပေမယ့် သူတို့ကို geopandas မှာဆက်ရှင်းပြထားပါတယ်။"
      ],
      "metadata": {
        "id": "bs_C-_J3ZET5"
      },
      "execution_count": 25,
      "outputs": []
    },
    {
      "cell_type": "code",
      "source": [
        "# (12-8-2022)"
      ],
      "metadata": {
        "id": "maHqqueXZleG"
      },
      "execution_count": 26,
      "outputs": []
    }
  ]
}