{
  "nbformat": 4,
  "nbformat_minor": 0,
  "metadata": {
    "colab": {
      "name": "Pandas_11.ipynb",
      "provenance": [],
      "authorship_tag": "ABX9TyMblYcCslBEclHTw+3m90iE",
      "include_colab_link": true
    },
    "kernelspec": {
      "name": "python3",
      "display_name": "Python 3"
    },
    "language_info": {
      "name": "python"
    }
  },
  "cells": [
    {
      "cell_type": "markdown",
      "metadata": {
        "id": "view-in-github",
        "colab_type": "text"
      },
      "source": [
        "<a href=\"https://colab.research.google.com/github/tomcat472/pandas_mm_tomcat/blob/main/Pandas_11.ipynb\" target=\"_parent\"><img src=\"https://colab.research.google.com/assets/colab-badge.svg\" alt=\"Open In Colab\"/></a>"
      ]
    },
    {
      "cell_type": "code",
      "execution_count": 1,
      "metadata": {
        "id": "g3SP8T7GqNRb"
      },
      "outputs": [],
      "source": [
        "# importing libraries\n",
        "import pandas as pd\n",
        "import numpy as np\n",
        "import matplotlib.pyplot as pyplot\n",
        "import seaborn as seaborn\n",
        "%matplotlib inline"
      ]
    },
    {
      "cell_type": "code",
      "source": [
        "# google drive နှင့်လင့်ချိတ်ခြင်း\n",
        "from google.colab import drive\n",
        "drive.mount('/content/drive')"
      ],
      "metadata": {
        "colab": {
          "base_uri": "https://localhost:8080/"
        },
        "id": "Wcs6xrFSqlUL",
        "outputId": "c8548929-7c36-4f0d-db9f-d15990d05ad4"
      },
      "execution_count": 2,
      "outputs": [
        {
          "output_type": "stream",
          "name": "stdout",
          "text": [
            "Drive already mounted at /content/drive; to attempt to forcibly remount, call drive.mount(\"/content/drive\", force_remount=True).\n"
          ]
        }
      ]
    },
    {
      "cell_type": "code",
      "source": [
        "df=pd.read_excel('/content/drive/MyDrive/StockX-Data-Contest-2019-3.xlsx',sheet_name='Raw Data')\n",
        "df"
      ],
      "metadata": {
        "colab": {
          "base_uri": "https://localhost:8080/",
          "height": 659
        },
        "id": "JEHB42OFvmKm",
        "outputId": "ea829492-b255-48e9-e1d4-2dfa2cc1358d"
      },
      "execution_count": 3,
      "outputs": [
        {
          "output_type": "execute_result",
          "data": {
            "text/plain": [
              "      Order Date   Brand                                   Sneaker Name  \\\n",
              "0     2017-09-01   Yeezy           Adidas-Yeezy-Boost-350-Low-V2-Beluga   \n",
              "1     2017-09-01   Yeezy    Adidas-Yeezy-Boost-350-V2-Core-Black-Copper   \n",
              "2     2017-09-01   Yeezy     Adidas-Yeezy-Boost-350-V2-Core-Black-Green   \n",
              "3     2017-09-01   Yeezy       Adidas-Yeezy-Boost-350-V2-Core-Black-Red   \n",
              "4     2017-09-01   Yeezy  Adidas-Yeezy-Boost-350-V2-Core-Black-Red-2017   \n",
              "...          ...     ...                                            ...   \n",
              "99951 2019-02-13   Yeezy    adidas-Yeezy-Boost-350-V2-Static-Reflective   \n",
              "99952 2019-02-13   Yeezy    adidas-Yeezy-Boost-350-V2-Static-Reflective   \n",
              "99953 2019-02-13   Yeezy    adidas-Yeezy-Boost-350-V2-Static-Reflective   \n",
              "99954 2019-02-13   Yeezy    adidas-Yeezy-Boost-350-V2-Static-Reflective   \n",
              "99955 2019-02-13   Yeezy    adidas-Yeezy-Boost-350-V2-Static-Reflective   \n",
              "\n",
              "       Sale Price  Retail Price Release Date  Shoe Size  Buyer Region  \n",
              "0          1097.0           220   2016-09-24       11.0    California  \n",
              "1           685.0           220   2016-11-23       11.0    California  \n",
              "2           690.0           220   2016-11-23       11.0    California  \n",
              "3          1075.0           220   2016-11-23       11.5      Kentucky  \n",
              "4           828.0           220   2017-02-11       11.0  Rhode Island  \n",
              "...           ...           ...          ...        ...           ...  \n",
              "99951       565.0           220   2018-12-26        8.0        Oregon  \n",
              "99952       598.0           220   2018-12-26        8.5    California  \n",
              "99953       605.0           220   2018-12-26        5.5      New York  \n",
              "99954       650.0           220   2018-12-26       11.0    California  \n",
              "99955       640.0           220   2018-12-26       11.5         Texas  \n",
              "\n",
              "[99956 rows x 8 columns]"
            ],
            "text/html": [
              "\n",
              "  <div id=\"df-fa7cd4bd-f409-4f40-8006-eb9a14cf1ed1\">\n",
              "    <div class=\"colab-df-container\">\n",
              "      <div>\n",
              "<style scoped>\n",
              "    .dataframe tbody tr th:only-of-type {\n",
              "        vertical-align: middle;\n",
              "    }\n",
              "\n",
              "    .dataframe tbody tr th {\n",
              "        vertical-align: top;\n",
              "    }\n",
              "\n",
              "    .dataframe thead th {\n",
              "        text-align: right;\n",
              "    }\n",
              "</style>\n",
              "<table border=\"1\" class=\"dataframe\">\n",
              "  <thead>\n",
              "    <tr style=\"text-align: right;\">\n",
              "      <th></th>\n",
              "      <th>Order Date</th>\n",
              "      <th>Brand</th>\n",
              "      <th>Sneaker Name</th>\n",
              "      <th>Sale Price</th>\n",
              "      <th>Retail Price</th>\n",
              "      <th>Release Date</th>\n",
              "      <th>Shoe Size</th>\n",
              "      <th>Buyer Region</th>\n",
              "    </tr>\n",
              "  </thead>\n",
              "  <tbody>\n",
              "    <tr>\n",
              "      <th>0</th>\n",
              "      <td>2017-09-01</td>\n",
              "      <td>Yeezy</td>\n",
              "      <td>Adidas-Yeezy-Boost-350-Low-V2-Beluga</td>\n",
              "      <td>1097.0</td>\n",
              "      <td>220</td>\n",
              "      <td>2016-09-24</td>\n",
              "      <td>11.0</td>\n",
              "      <td>California</td>\n",
              "    </tr>\n",
              "    <tr>\n",
              "      <th>1</th>\n",
              "      <td>2017-09-01</td>\n",
              "      <td>Yeezy</td>\n",
              "      <td>Adidas-Yeezy-Boost-350-V2-Core-Black-Copper</td>\n",
              "      <td>685.0</td>\n",
              "      <td>220</td>\n",
              "      <td>2016-11-23</td>\n",
              "      <td>11.0</td>\n",
              "      <td>California</td>\n",
              "    </tr>\n",
              "    <tr>\n",
              "      <th>2</th>\n",
              "      <td>2017-09-01</td>\n",
              "      <td>Yeezy</td>\n",
              "      <td>Adidas-Yeezy-Boost-350-V2-Core-Black-Green</td>\n",
              "      <td>690.0</td>\n",
              "      <td>220</td>\n",
              "      <td>2016-11-23</td>\n",
              "      <td>11.0</td>\n",
              "      <td>California</td>\n",
              "    </tr>\n",
              "    <tr>\n",
              "      <th>3</th>\n",
              "      <td>2017-09-01</td>\n",
              "      <td>Yeezy</td>\n",
              "      <td>Adidas-Yeezy-Boost-350-V2-Core-Black-Red</td>\n",
              "      <td>1075.0</td>\n",
              "      <td>220</td>\n",
              "      <td>2016-11-23</td>\n",
              "      <td>11.5</td>\n",
              "      <td>Kentucky</td>\n",
              "    </tr>\n",
              "    <tr>\n",
              "      <th>4</th>\n",
              "      <td>2017-09-01</td>\n",
              "      <td>Yeezy</td>\n",
              "      <td>Adidas-Yeezy-Boost-350-V2-Core-Black-Red-2017</td>\n",
              "      <td>828.0</td>\n",
              "      <td>220</td>\n",
              "      <td>2017-02-11</td>\n",
              "      <td>11.0</td>\n",
              "      <td>Rhode Island</td>\n",
              "    </tr>\n",
              "    <tr>\n",
              "      <th>...</th>\n",
              "      <td>...</td>\n",
              "      <td>...</td>\n",
              "      <td>...</td>\n",
              "      <td>...</td>\n",
              "      <td>...</td>\n",
              "      <td>...</td>\n",
              "      <td>...</td>\n",
              "      <td>...</td>\n",
              "    </tr>\n",
              "    <tr>\n",
              "      <th>99951</th>\n",
              "      <td>2019-02-13</td>\n",
              "      <td>Yeezy</td>\n",
              "      <td>adidas-Yeezy-Boost-350-V2-Static-Reflective</td>\n",
              "      <td>565.0</td>\n",
              "      <td>220</td>\n",
              "      <td>2018-12-26</td>\n",
              "      <td>8.0</td>\n",
              "      <td>Oregon</td>\n",
              "    </tr>\n",
              "    <tr>\n",
              "      <th>99952</th>\n",
              "      <td>2019-02-13</td>\n",
              "      <td>Yeezy</td>\n",
              "      <td>adidas-Yeezy-Boost-350-V2-Static-Reflective</td>\n",
              "      <td>598.0</td>\n",
              "      <td>220</td>\n",
              "      <td>2018-12-26</td>\n",
              "      <td>8.5</td>\n",
              "      <td>California</td>\n",
              "    </tr>\n",
              "    <tr>\n",
              "      <th>99953</th>\n",
              "      <td>2019-02-13</td>\n",
              "      <td>Yeezy</td>\n",
              "      <td>adidas-Yeezy-Boost-350-V2-Static-Reflective</td>\n",
              "      <td>605.0</td>\n",
              "      <td>220</td>\n",
              "      <td>2018-12-26</td>\n",
              "      <td>5.5</td>\n",
              "      <td>New York</td>\n",
              "    </tr>\n",
              "    <tr>\n",
              "      <th>99954</th>\n",
              "      <td>2019-02-13</td>\n",
              "      <td>Yeezy</td>\n",
              "      <td>adidas-Yeezy-Boost-350-V2-Static-Reflective</td>\n",
              "      <td>650.0</td>\n",
              "      <td>220</td>\n",
              "      <td>2018-12-26</td>\n",
              "      <td>11.0</td>\n",
              "      <td>California</td>\n",
              "    </tr>\n",
              "    <tr>\n",
              "      <th>99955</th>\n",
              "      <td>2019-02-13</td>\n",
              "      <td>Yeezy</td>\n",
              "      <td>adidas-Yeezy-Boost-350-V2-Static-Reflective</td>\n",
              "      <td>640.0</td>\n",
              "      <td>220</td>\n",
              "      <td>2018-12-26</td>\n",
              "      <td>11.5</td>\n",
              "      <td>Texas</td>\n",
              "    </tr>\n",
              "  </tbody>\n",
              "</table>\n",
              "<p>99956 rows × 8 columns</p>\n",
              "</div>\n",
              "      <button class=\"colab-df-convert\" onclick=\"convertToInteractive('df-fa7cd4bd-f409-4f40-8006-eb9a14cf1ed1')\"\n",
              "              title=\"Convert this dataframe to an interactive table.\"\n",
              "              style=\"display:none;\">\n",
              "        \n",
              "  <svg xmlns=\"http://www.w3.org/2000/svg\" height=\"24px\"viewBox=\"0 0 24 24\"\n",
              "       width=\"24px\">\n",
              "    <path d=\"M0 0h24v24H0V0z\" fill=\"none\"/>\n",
              "    <path d=\"M18.56 5.44l.94 2.06.94-2.06 2.06-.94-2.06-.94-.94-2.06-.94 2.06-2.06.94zm-11 1L8.5 8.5l.94-2.06 2.06-.94-2.06-.94L8.5 2.5l-.94 2.06-2.06.94zm10 10l.94 2.06.94-2.06 2.06-.94-2.06-.94-.94-2.06-.94 2.06-2.06.94z\"/><path d=\"M17.41 7.96l-1.37-1.37c-.4-.4-.92-.59-1.43-.59-.52 0-1.04.2-1.43.59L10.3 9.45l-7.72 7.72c-.78.78-.78 2.05 0 2.83L4 21.41c.39.39.9.59 1.41.59.51 0 1.02-.2 1.41-.59l7.78-7.78 2.81-2.81c.8-.78.8-2.07 0-2.86zM5.41 20L4 18.59l7.72-7.72 1.47 1.35L5.41 20z\"/>\n",
              "  </svg>\n",
              "      </button>\n",
              "      \n",
              "  <style>\n",
              "    .colab-df-container {\n",
              "      display:flex;\n",
              "      flex-wrap:wrap;\n",
              "      gap: 12px;\n",
              "    }\n",
              "\n",
              "    .colab-df-convert {\n",
              "      background-color: #E8F0FE;\n",
              "      border: none;\n",
              "      border-radius: 50%;\n",
              "      cursor: pointer;\n",
              "      display: none;\n",
              "      fill: #1967D2;\n",
              "      height: 32px;\n",
              "      padding: 0 0 0 0;\n",
              "      width: 32px;\n",
              "    }\n",
              "\n",
              "    .colab-df-convert:hover {\n",
              "      background-color: #E2EBFA;\n",
              "      box-shadow: 0px 1px 2px rgba(60, 64, 67, 0.3), 0px 1px 3px 1px rgba(60, 64, 67, 0.15);\n",
              "      fill: #174EA6;\n",
              "    }\n",
              "\n",
              "    [theme=dark] .colab-df-convert {\n",
              "      background-color: #3B4455;\n",
              "      fill: #D2E3FC;\n",
              "    }\n",
              "\n",
              "    [theme=dark] .colab-df-convert:hover {\n",
              "      background-color: #434B5C;\n",
              "      box-shadow: 0px 1px 3px 1px rgba(0, 0, 0, 0.15);\n",
              "      filter: drop-shadow(0px 1px 2px rgba(0, 0, 0, 0.3));\n",
              "      fill: #FFFFFF;\n",
              "    }\n",
              "  </style>\n",
              "\n",
              "      <script>\n",
              "        const buttonEl =\n",
              "          document.querySelector('#df-fa7cd4bd-f409-4f40-8006-eb9a14cf1ed1 button.colab-df-convert');\n",
              "        buttonEl.style.display =\n",
              "          google.colab.kernel.accessAllowed ? 'block' : 'none';\n",
              "\n",
              "        async function convertToInteractive(key) {\n",
              "          const element = document.querySelector('#df-fa7cd4bd-f409-4f40-8006-eb9a14cf1ed1');\n",
              "          const dataTable =\n",
              "            await google.colab.kernel.invokeFunction('convertToInteractive',\n",
              "                                                     [key], {});\n",
              "          if (!dataTable) return;\n",
              "\n",
              "          const docLinkHtml = 'Like what you see? Visit the ' +\n",
              "            '<a target=\"_blank\" href=https://colab.research.google.com/notebooks/data_table.ipynb>data table notebook</a>'\n",
              "            + ' to learn more about interactive tables.';\n",
              "          element.innerHTML = '';\n",
              "          dataTable['output_type'] = 'display_data';\n",
              "          await google.colab.output.renderOutput(dataTable, element);\n",
              "          const docLink = document.createElement('div');\n",
              "          docLink.innerHTML = docLinkHtml;\n",
              "          element.appendChild(docLink);\n",
              "        }\n",
              "      </script>\n",
              "    </div>\n",
              "  </div>\n",
              "  "
            ]
          },
          "metadata": {},
          "execution_count": 3
        }
      ]
    },
    {
      "cell_type": "code",
      "source": [
        "# ဒီတခုမှာတော့ ကိုယ့်ဘာသာရချင်တဲ့ပုံစံကို function တွေရေးပြီး ဘယ်လိုလုပ်ရမယ်ဆိုတာကို ရှင်းပြသွားမှာဖြစ်ပါတယ်။\n",
        "# ပထမဆုံးအနေနဲ့ python ရဲ့ function သဘောသဘာဝကို အရင်ဆုံးသိအောင်လုပ်ရပါမယ်။ "
      ],
      "metadata": {
        "id": "Lf5WhCupwImg"
      },
      "execution_count": 4,
      "outputs": []
    },
    {
      "cell_type": "code",
      "source": [
        "# function တခုတည်ဆောက်မယ်ဆိုရင် python မှာ def ဆိုတဲ့ keyword ကိုအရင်ရေးပြီးမှ\n",
        "# function name ကိုရေးပေးရပါတယ်။\n",
        "def my_fun():\n",
        "  print('Hello')\n",
        "\n",
        "my_fun()\n",
        "# ဒါဆိုရင် function တခုတည်ဆောက်ပြီးပါပြီ။ function ကို call ရင်တော့ အနောက်မှာ () ထည့်ပေးရပါတယ်။"
      ],
      "metadata": {
        "colab": {
          "base_uri": "https://localhost:8080/"
        },
        "id": "lWZRWXYCxSJE",
        "outputId": "44cafab9-8cb0-4f0e-9ace-50cf9d006aca"
      },
      "execution_count": 5,
      "outputs": [
        {
          "output_type": "stream",
          "name": "stdout",
          "text": [
            "Hello\n"
          ]
        }
      ]
    },
    {
      "cell_type": "code",
      "source": [
        "# parameter ထည့်ပြီးလည်း မိမိလိုချင်တဲ့ output တွေကိုရအောင် လုပ်လို့ရပါတယ်။\n",
        "def my_fun(name):\n",
        "  print(f'Hello {name}')\n",
        "\n",
        "my_fun(name='Jack')"
      ],
      "metadata": {
        "colab": {
          "base_uri": "https://localhost:8080/"
        },
        "id": "dIBuAja0yCqQ",
        "outputId": "956f03a1-32c7-4688-9282-e637788af3bf"
      },
      "execution_count": 6,
      "outputs": [
        {
          "output_type": "stream",
          "name": "stdout",
          "text": [
            "Hello Jack\n"
          ]
        }
      ]
    },
    {
      "cell_type": "code",
      "source": [
        "def my_fun(name, age):\n",
        "  print(f'My Name is {name} and I\\'m {age} year olds.')\n",
        "\n",
        "my_fun(name='Jack',age=23)"
      ],
      "metadata": {
        "colab": {
          "base_uri": "https://localhost:8080/"
        },
        "id": "4Py3XRmM071y",
        "outputId": "8601c091-768b-48f1-b709-2e2cefaff465"
      },
      "execution_count": 7,
      "outputs": [
        {
          "output_type": "stream",
          "name": "stdout",
          "text": [
            "My Name is Jack and I'm 23 year olds.\n"
          ]
        }
      ]
    },
    {
      "cell_type": "code",
      "source": [
        "print(my_fun(name='Will',age=24))\n",
        "print(my_fun(32,'John'))\n",
        "# function ကိုခေါ်ရင် parameter ကိုပြန်မရေးချင်ရင် သူ့ index နဲ့သူရေးမှ အဆင်ပြေမှာဖြစ်ပါတယ်။\n",
        "# ဒုတိယအကြောင်းကို ကြည့်ရင်မြင်သာမယ်လို့ ယူဆပါတယ်။"
      ],
      "metadata": {
        "colab": {
          "base_uri": "https://localhost:8080/"
        },
        "id": "HMfwDqx81QV1",
        "outputId": "6085a17b-572c-460b-fb73-b00cab7e0bd4"
      },
      "execution_count": 8,
      "outputs": [
        {
          "output_type": "stream",
          "name": "stdout",
          "text": [
            "My Name is Will and I'm 24 year olds.\n",
            "None\n",
            "My Name is 32 and I'm John year olds.\n",
            "None\n"
          ]
        }
      ]
    },
    {
      "cell_type": "code",
      "source": [
        "# ကိန်းဂဏန်းတွေအတွက် function ကိုရေးမယ်ဆိုရင်တော့ return keyword နဲ့ output ထုတ်ရမှာဖြစ်ပါတယ်။\n",
        "def another(num1,num2):\n",
        "  addition=num1+num2\n",
        "  subtraction=num1-num2\n",
        "  division=num1/num2\n",
        "  return addition, subtraction, division"
      ],
      "metadata": {
        "id": "c5iCu5XA1cGo"
      },
      "execution_count": 9,
      "outputs": []
    },
    {
      "cell_type": "code",
      "source": [
        "another(2,3)"
      ],
      "metadata": {
        "colab": {
          "base_uri": "https://localhost:8080/"
        },
        "id": "PYn2vMQI9pfx",
        "outputId": "6f8baf8d-1709-4b29-d2ff-dea3128a5b43"
      },
      "execution_count": 10,
      "outputs": [
        {
          "output_type": "execute_result",
          "data": {
            "text/plain": [
              "(5, -1, 0.6666666666666666)"
            ]
          },
          "metadata": {},
          "execution_count": 10
        }
      ]
    },
    {
      "cell_type": "code",
      "source": [
        "# square ရှာခြင်း\n",
        "def square(x):\n",
        "  return x**2\n",
        "print(square(5),square(6),square(7))"
      ],
      "metadata": {
        "colab": {
          "base_uri": "https://localhost:8080/"
        },
        "id": "GSJfua129q2D",
        "outputId": "fb7514ab-8039-40e1-dfbd-da7643dc9afc"
      },
      "execution_count": 11,
      "outputs": [
        {
          "output_type": "stream",
          "name": "stdout",
          "text": [
            "25 36 49\n"
          ]
        }
      ]
    },
    {
      "cell_type": "code",
      "source": [
        "# conditional function များ ပြုလုပ်ခြင်း\n",
        "def my_fun(x):\n",
        "  if x>=100 and x<=1000:\n",
        "    return x/100\n",
        "  else:\n",
        "    return 'undefined'\n",
        "  \n",
        "print(my_fun(50))\n",
        "print(my_fun(250))\n",
        "print(my_fun(1000))\n",
        "  "
      ],
      "metadata": {
        "colab": {
          "base_uri": "https://localhost:8080/"
        },
        "id": "qKuQxtUX_peJ",
        "outputId": "ca1e2c6e-31c2-4684-f31d-c0567e2966e2"
      },
      "execution_count": 12,
      "outputs": [
        {
          "output_type": "stream",
          "name": "stdout",
          "text": [
            "undefined\n",
            "2.5\n",
            "10.0\n"
          ]
        }
      ]
    },
    {
      "cell_type": "code",
      "source": [
        "# python မှာ lambda ဆိုတဲ့ function လုပ်လို့ရတဲ့ နည်းတနည်းရှိပါသေးတယ်။\n",
        "add=lambda x,y: x+y\n",
        "sub=lambda x,y: x-y\n",
        "division= lambda x,y:x/y\n",
        "print(add(12,34),sub(12,34),division(12,34),sep='/')"
      ],
      "metadata": {
        "colab": {
          "base_uri": "https://localhost:8080/"
        },
        "id": "Ch9IrWxgA8Ir",
        "outputId": "b60f1d53-1a48-4189-b4f3-2b8f3542ca3e"
      },
      "execution_count": 13,
      "outputs": [
        {
          "output_type": "stream",
          "name": "stdout",
          "text": [
            "46/-22/0.35294117647058826\n"
          ]
        }
      ]
    },
    {
      "cell_type": "code",
      "source": [
        "# နောက်ထပ် function သုံးလို့ရတဲ့ library တခုရှိပါသေးတယ်။ အဲ့တာကတော့ numpy ဖြစ်ပါတယ်။\n",
        "# numpy အတွက်လည်း သီးသန့် ပြုလုပ်ပေးပါဦးမယ်။\n",
        "# လောလောဆယ်ကတော့ np function တွေကိုပဲသုံးသွားပါမယ်။\n",
        "# numpy ကို စသုံးတော့မယ်ဆိုရင်တော့ import numpy as np ဆိုပြီးရေးရပါတယ်။ \n",
        "# import numpy ဆိုတာ library ကိုခေါ်တာဖြစ်ပြီး as np ဆိုတာကတော့ numpy ကိုသုံးဖို့အတွက် အတိုကောက်ရေးတာဖြစ်တယ်။"
      ],
      "metadata": {
        "id": "5unPegh7GIdB"
      },
      "execution_count": 14,
      "outputs": []
    },
    {
      "cell_type": "code",
      "source": [
        "# np function များ\n",
        "A=[1,2,3,4,5,6]\n",
        "print(np.sum(A))\n",
        "print(np.square(A))\n",
        "print(np.max(A))\n",
        "print(np.min(A))\n",
        "# တခြား function တွေလဲရှိပါသေးတယ်။\n",
        "# လောလောဆယ်တော့ pandas ကိုပဲအရင်ပြီးအောင်သွားရအောင်။"
      ],
      "metadata": {
        "colab": {
          "base_uri": "https://localhost:8080/"
        },
        "id": "OPusK6dtHKs0",
        "outputId": "9d1ba8d4-a23c-4b11-f4ff-5da69c95c2c8"
      },
      "execution_count": 15,
      "outputs": [
        {
          "output_type": "stream",
          "name": "stdout",
          "text": [
            "21\n",
            "[ 1  4  9 16 25 36]\n",
            "6\n",
            "1\n"
          ]
        }
      ]
    },
    {
      "cell_type": "code",
      "source": [
        "# pandas မှာ function တွေသုံးမယ်ဆိုရင် df.col.apply(function) ပုံစံရေးပြီးသုံးရပါတယ်။\n",
        "df.head(2)"
      ],
      "metadata": {
        "colab": {
          "base_uri": "https://localhost:8080/",
          "height": 208
        },
        "id": "bjZ5Kq2DHTif",
        "outputId": "41453edf-20c3-4b66-8364-d655682bfa83"
      },
      "execution_count": 16,
      "outputs": [
        {
          "output_type": "execute_result",
          "data": {
            "text/plain": [
              "  Order Date   Brand                                 Sneaker Name  Sale Price  \\\n",
              "0 2017-09-01   Yeezy         Adidas-Yeezy-Boost-350-Low-V2-Beluga      1097.0   \n",
              "1 2017-09-01   Yeezy  Adidas-Yeezy-Boost-350-V2-Core-Black-Copper       685.0   \n",
              "\n",
              "   Retail Price Release Date  Shoe Size Buyer Region  \n",
              "0           220   2016-09-24       11.0   California  \n",
              "1           220   2016-11-23       11.0   California  "
            ],
            "text/html": [
              "\n",
              "  <div id=\"df-8cbb7ce6-d0a6-4d94-a9d3-682b3e73a589\">\n",
              "    <div class=\"colab-df-container\">\n",
              "      <div>\n",
              "<style scoped>\n",
              "    .dataframe tbody tr th:only-of-type {\n",
              "        vertical-align: middle;\n",
              "    }\n",
              "\n",
              "    .dataframe tbody tr th {\n",
              "        vertical-align: top;\n",
              "    }\n",
              "\n",
              "    .dataframe thead th {\n",
              "        text-align: right;\n",
              "    }\n",
              "</style>\n",
              "<table border=\"1\" class=\"dataframe\">\n",
              "  <thead>\n",
              "    <tr style=\"text-align: right;\">\n",
              "      <th></th>\n",
              "      <th>Order Date</th>\n",
              "      <th>Brand</th>\n",
              "      <th>Sneaker Name</th>\n",
              "      <th>Sale Price</th>\n",
              "      <th>Retail Price</th>\n",
              "      <th>Release Date</th>\n",
              "      <th>Shoe Size</th>\n",
              "      <th>Buyer Region</th>\n",
              "    </tr>\n",
              "  </thead>\n",
              "  <tbody>\n",
              "    <tr>\n",
              "      <th>0</th>\n",
              "      <td>2017-09-01</td>\n",
              "      <td>Yeezy</td>\n",
              "      <td>Adidas-Yeezy-Boost-350-Low-V2-Beluga</td>\n",
              "      <td>1097.0</td>\n",
              "      <td>220</td>\n",
              "      <td>2016-09-24</td>\n",
              "      <td>11.0</td>\n",
              "      <td>California</td>\n",
              "    </tr>\n",
              "    <tr>\n",
              "      <th>1</th>\n",
              "      <td>2017-09-01</td>\n",
              "      <td>Yeezy</td>\n",
              "      <td>Adidas-Yeezy-Boost-350-V2-Core-Black-Copper</td>\n",
              "      <td>685.0</td>\n",
              "      <td>220</td>\n",
              "      <td>2016-11-23</td>\n",
              "      <td>11.0</td>\n",
              "      <td>California</td>\n",
              "    </tr>\n",
              "  </tbody>\n",
              "</table>\n",
              "</div>\n",
              "      <button class=\"colab-df-convert\" onclick=\"convertToInteractive('df-8cbb7ce6-d0a6-4d94-a9d3-682b3e73a589')\"\n",
              "              title=\"Convert this dataframe to an interactive table.\"\n",
              "              style=\"display:none;\">\n",
              "        \n",
              "  <svg xmlns=\"http://www.w3.org/2000/svg\" height=\"24px\"viewBox=\"0 0 24 24\"\n",
              "       width=\"24px\">\n",
              "    <path d=\"M0 0h24v24H0V0z\" fill=\"none\"/>\n",
              "    <path d=\"M18.56 5.44l.94 2.06.94-2.06 2.06-.94-2.06-.94-.94-2.06-.94 2.06-2.06.94zm-11 1L8.5 8.5l.94-2.06 2.06-.94-2.06-.94L8.5 2.5l-.94 2.06-2.06.94zm10 10l.94 2.06.94-2.06 2.06-.94-2.06-.94-.94-2.06-.94 2.06-2.06.94z\"/><path d=\"M17.41 7.96l-1.37-1.37c-.4-.4-.92-.59-1.43-.59-.52 0-1.04.2-1.43.59L10.3 9.45l-7.72 7.72c-.78.78-.78 2.05 0 2.83L4 21.41c.39.39.9.59 1.41.59.51 0 1.02-.2 1.41-.59l7.78-7.78 2.81-2.81c.8-.78.8-2.07 0-2.86zM5.41 20L4 18.59l7.72-7.72 1.47 1.35L5.41 20z\"/>\n",
              "  </svg>\n",
              "      </button>\n",
              "      \n",
              "  <style>\n",
              "    .colab-df-container {\n",
              "      display:flex;\n",
              "      flex-wrap:wrap;\n",
              "      gap: 12px;\n",
              "    }\n",
              "\n",
              "    .colab-df-convert {\n",
              "      background-color: #E8F0FE;\n",
              "      border: none;\n",
              "      border-radius: 50%;\n",
              "      cursor: pointer;\n",
              "      display: none;\n",
              "      fill: #1967D2;\n",
              "      height: 32px;\n",
              "      padding: 0 0 0 0;\n",
              "      width: 32px;\n",
              "    }\n",
              "\n",
              "    .colab-df-convert:hover {\n",
              "      background-color: #E2EBFA;\n",
              "      box-shadow: 0px 1px 2px rgba(60, 64, 67, 0.3), 0px 1px 3px 1px rgba(60, 64, 67, 0.15);\n",
              "      fill: #174EA6;\n",
              "    }\n",
              "\n",
              "    [theme=dark] .colab-df-convert {\n",
              "      background-color: #3B4455;\n",
              "      fill: #D2E3FC;\n",
              "    }\n",
              "\n",
              "    [theme=dark] .colab-df-convert:hover {\n",
              "      background-color: #434B5C;\n",
              "      box-shadow: 0px 1px 3px 1px rgba(0, 0, 0, 0.15);\n",
              "      filter: drop-shadow(0px 1px 2px rgba(0, 0, 0, 0.3));\n",
              "      fill: #FFFFFF;\n",
              "    }\n",
              "  </style>\n",
              "\n",
              "      <script>\n",
              "        const buttonEl =\n",
              "          document.querySelector('#df-8cbb7ce6-d0a6-4d94-a9d3-682b3e73a589 button.colab-df-convert');\n",
              "        buttonEl.style.display =\n",
              "          google.colab.kernel.accessAllowed ? 'block' : 'none';\n",
              "\n",
              "        async function convertToInteractive(key) {\n",
              "          const element = document.querySelector('#df-8cbb7ce6-d0a6-4d94-a9d3-682b3e73a589');\n",
              "          const dataTable =\n",
              "            await google.colab.kernel.invokeFunction('convertToInteractive',\n",
              "                                                     [key], {});\n",
              "          if (!dataTable) return;\n",
              "\n",
              "          const docLinkHtml = 'Like what you see? Visit the ' +\n",
              "            '<a target=\"_blank\" href=https://colab.research.google.com/notebooks/data_table.ipynb>data table notebook</a>'\n",
              "            + ' to learn more about interactive tables.';\n",
              "          element.innerHTML = '';\n",
              "          dataTable['output_type'] = 'display_data';\n",
              "          await google.colab.output.renderOutput(dataTable, element);\n",
              "          const docLink = document.createElement('div');\n",
              "          docLink.innerHTML = docLinkHtml;\n",
              "          element.appendChild(docLink);\n",
              "        }\n",
              "      </script>\n",
              "    </div>\n",
              "  </div>\n",
              "  "
            ]
          },
          "metadata": {},
          "execution_count": 16
        }
      ]
    },
    {
      "cell_type": "code",
      "source": [
        "# Sale price ၁၀၀၀ အောက်ဆိုရင် ၂၀၀၀ နဲ့မြှောက်ပြီး ၁၀၀၀အထက်ဆိုရင် ၁၅၀၀ နဲ့မြှောက်ဖို့ လုပ်ပါမယ်။\n",
        "def func(x):\n",
        "  if x<=1000:\n",
        "    return x*1000\n",
        "  else:\n",
        "    return x*1500"
      ],
      "metadata": {
        "id": "Yf1d9WHjJTne"
      },
      "execution_count": 17,
      "outputs": []
    },
    {
      "cell_type": "code",
      "source": [
        "df['Sale Price'].apply(func)\n",
        "# တကယ်လို့ parameter တွေပါထည့်ရမယ်ဆိုရင်တော့ parameter တန်ဘိုးတွေပါရေးပေးရမှာ ဖြစ်ပါတယ်။"
      ],
      "metadata": {
        "colab": {
          "base_uri": "https://localhost:8080/"
        },
        "id": "tiYUvia5JxcO",
        "outputId": "9923a3c9-64a0-416f-d3d8-20f8c1a14a1c"
      },
      "execution_count": 18,
      "outputs": [
        {
          "output_type": "execute_result",
          "data": {
            "text/plain": [
              "0        1645500.0\n",
              "1         685000.0\n",
              "2         690000.0\n",
              "3        1612500.0\n",
              "4         828000.0\n",
              "           ...    \n",
              "99951     565000.0\n",
              "99952     598000.0\n",
              "99953     605000.0\n",
              "99954     650000.0\n",
              "99955     640000.0\n",
              "Name: Sale Price, Length: 99956, dtype: float64"
            ]
          },
          "metadata": {},
          "execution_count": 18
        }
      ]
    },
    {
      "cell_type": "code",
      "source": [
        "# နောက်တခုက numpy function ကို သုံးပြီးတွက်ပြပါမယ်။\n",
        "df['Sale Price'].apply(np.mean)\n",
        "# mean တန်ဖိုးတွေကို ရှာပြီး တွက်တာဖြစ်ပါတယ်။\n",
        "# lambda fucntion နဲ့တွက်တာလဲ ဒီသဘောတရားဖြစ်တာကြောင့်မို့ ဆက်မရှင်းပြတော့ပါဘူး။"
      ],
      "metadata": {
        "colab": {
          "base_uri": "https://localhost:8080/"
        },
        "id": "Niggy1gmKSeK",
        "outputId": "8e8a4781-8b73-414b-c056-57870eb72bfa"
      },
      "execution_count": 19,
      "outputs": [
        {
          "output_type": "execute_result",
          "data": {
            "text/plain": [
              "0        1097.0\n",
              "1         685.0\n",
              "2         690.0\n",
              "3        1075.0\n",
              "4         828.0\n",
              "          ...  \n",
              "99951     565.0\n",
              "99952     598.0\n",
              "99953     605.0\n",
              "99954     650.0\n",
              "99955     640.0\n",
              "Name: Sale Price, Length: 99956, dtype: float64"
            ]
          },
          "metadata": {},
          "execution_count": 19
        }
      ]
    },
    {
      "cell_type": "code",
      "source": [
        "# (11-8-2022)"
      ],
      "metadata": {
        "id": "aLadWWwrP9aU"
      },
      "execution_count": 20,
      "outputs": []
    }
  ]
}