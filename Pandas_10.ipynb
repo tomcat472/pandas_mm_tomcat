{
  "nbformat": 4,
  "nbformat_minor": 0,
  "metadata": {
    "colab": {
      "name": "Pandas_10.ipynb",
      "provenance": [],
      "collapsed_sections": [],
      "authorship_tag": "ABX9TyNXCxn/AM58ieq9A4SlSKHa",
      "include_colab_link": true
    },
    "kernelspec": {
      "name": "python3",
      "display_name": "Python 3"
    },
    "language_info": {
      "name": "python"
    }
  },
  "cells": [
    {
      "cell_type": "markdown",
      "metadata": {
        "id": "view-in-github",
        "colab_type": "text"
      },
      "source": [
        "<a href=\"https://colab.research.google.com/github/tomcat472/pandas_mm_tomcat/blob/main/Pandas_10.ipynb\" target=\"_parent\"><img src=\"https://colab.research.google.com/assets/colab-badge.svg\" alt=\"Open In Colab\"/></a>"
      ]
    },
    {
      "cell_type": "code",
      "execution_count": 1,
      "metadata": {
        "id": "PXs51LXqF99V"
      },
      "outputs": [],
      "source": [
        "# importing libraries\n",
        "import pandas as pd\n",
        "import numpy as np\n",
        "import matplotlib.pyplot as plt\n",
        "import seaborn as sns\n",
        "%matplotlib inline"
      ]
    },
    {
      "cell_type": "code",
      "source": [
        "# google drive နှင့်လင့်ချိတ်ခြင်း\n",
        "from google.colab import drive\n",
        "drive.mount('/content/drive')"
      ],
      "metadata": {
        "colab": {
          "base_uri": "https://localhost:8080/"
        },
        "id": "LsGe3liQGJne",
        "outputId": "da16fb26-5872-4278-cc46-ee749a934016"
      },
      "execution_count": 2,
      "outputs": [
        {
          "output_type": "stream",
          "name": "stdout",
          "text": [
            "Drive already mounted at /content/drive; to attempt to forcibly remount, call drive.mount(\"/content/drive\", force_remount=True).\n"
          ]
        }
      ]
    },
    {
      "cell_type": "code",
      "source": [
        "df=pd.read_csv('/content/drive/MyDrive/diamonds.csv')\n",
        "df.head()"
      ],
      "metadata": {
        "colab": {
          "base_uri": "https://localhost:8080/",
          "height": 206
        },
        "id": "5mHw82MkGMoL",
        "outputId": "3d849216-60bb-49c1-d75f-711457c5554b"
      },
      "execution_count": 3,
      "outputs": [
        {
          "output_type": "execute_result",
          "data": {
            "text/plain": [
              "   carat      cut color clarity  depth  table  price     x     y     z\n",
              "0   0.23    Ideal     E     SI2   61.5   55.0    326  3.95  3.98  2.43\n",
              "1   0.21  Premium     E     SI1   59.8   61.0    326  3.89  3.84  2.31\n",
              "2   0.23     Good     E     VS1   56.9   65.0    327  4.05  4.07  2.31\n",
              "3   0.29  Premium     I     VS2   62.4   58.0    334  4.20  4.23  2.63\n",
              "4   0.31     Good     J     SI2   63.3   58.0    335  4.34  4.35  2.75"
            ],
            "text/html": [
              "\n",
              "  <div id=\"df-ffb34f05-5f81-4d42-bb79-afb13528aaab\">\n",
              "    <div class=\"colab-df-container\">\n",
              "      <div>\n",
              "<style scoped>\n",
              "    .dataframe tbody tr th:only-of-type {\n",
              "        vertical-align: middle;\n",
              "    }\n",
              "\n",
              "    .dataframe tbody tr th {\n",
              "        vertical-align: top;\n",
              "    }\n",
              "\n",
              "    .dataframe thead th {\n",
              "        text-align: right;\n",
              "    }\n",
              "</style>\n",
              "<table border=\"1\" class=\"dataframe\">\n",
              "  <thead>\n",
              "    <tr style=\"text-align: right;\">\n",
              "      <th></th>\n",
              "      <th>carat</th>\n",
              "      <th>cut</th>\n",
              "      <th>color</th>\n",
              "      <th>clarity</th>\n",
              "      <th>depth</th>\n",
              "      <th>table</th>\n",
              "      <th>price</th>\n",
              "      <th>x</th>\n",
              "      <th>y</th>\n",
              "      <th>z</th>\n",
              "    </tr>\n",
              "  </thead>\n",
              "  <tbody>\n",
              "    <tr>\n",
              "      <th>0</th>\n",
              "      <td>0.23</td>\n",
              "      <td>Ideal</td>\n",
              "      <td>E</td>\n",
              "      <td>SI2</td>\n",
              "      <td>61.5</td>\n",
              "      <td>55.0</td>\n",
              "      <td>326</td>\n",
              "      <td>3.95</td>\n",
              "      <td>3.98</td>\n",
              "      <td>2.43</td>\n",
              "    </tr>\n",
              "    <tr>\n",
              "      <th>1</th>\n",
              "      <td>0.21</td>\n",
              "      <td>Premium</td>\n",
              "      <td>E</td>\n",
              "      <td>SI1</td>\n",
              "      <td>59.8</td>\n",
              "      <td>61.0</td>\n",
              "      <td>326</td>\n",
              "      <td>3.89</td>\n",
              "      <td>3.84</td>\n",
              "      <td>2.31</td>\n",
              "    </tr>\n",
              "    <tr>\n",
              "      <th>2</th>\n",
              "      <td>0.23</td>\n",
              "      <td>Good</td>\n",
              "      <td>E</td>\n",
              "      <td>VS1</td>\n",
              "      <td>56.9</td>\n",
              "      <td>65.0</td>\n",
              "      <td>327</td>\n",
              "      <td>4.05</td>\n",
              "      <td>4.07</td>\n",
              "      <td>2.31</td>\n",
              "    </tr>\n",
              "    <tr>\n",
              "      <th>3</th>\n",
              "      <td>0.29</td>\n",
              "      <td>Premium</td>\n",
              "      <td>I</td>\n",
              "      <td>VS2</td>\n",
              "      <td>62.4</td>\n",
              "      <td>58.0</td>\n",
              "      <td>334</td>\n",
              "      <td>4.20</td>\n",
              "      <td>4.23</td>\n",
              "      <td>2.63</td>\n",
              "    </tr>\n",
              "    <tr>\n",
              "      <th>4</th>\n",
              "      <td>0.31</td>\n",
              "      <td>Good</td>\n",
              "      <td>J</td>\n",
              "      <td>SI2</td>\n",
              "      <td>63.3</td>\n",
              "      <td>58.0</td>\n",
              "      <td>335</td>\n",
              "      <td>4.34</td>\n",
              "      <td>4.35</td>\n",
              "      <td>2.75</td>\n",
              "    </tr>\n",
              "  </tbody>\n",
              "</table>\n",
              "</div>\n",
              "      <button class=\"colab-df-convert\" onclick=\"convertToInteractive('df-ffb34f05-5f81-4d42-bb79-afb13528aaab')\"\n",
              "              title=\"Convert this dataframe to an interactive table.\"\n",
              "              style=\"display:none;\">\n",
              "        \n",
              "  <svg xmlns=\"http://www.w3.org/2000/svg\" height=\"24px\"viewBox=\"0 0 24 24\"\n",
              "       width=\"24px\">\n",
              "    <path d=\"M0 0h24v24H0V0z\" fill=\"none\"/>\n",
              "    <path d=\"M18.56 5.44l.94 2.06.94-2.06 2.06-.94-2.06-.94-.94-2.06-.94 2.06-2.06.94zm-11 1L8.5 8.5l.94-2.06 2.06-.94-2.06-.94L8.5 2.5l-.94 2.06-2.06.94zm10 10l.94 2.06.94-2.06 2.06-.94-2.06-.94-.94-2.06-.94 2.06-2.06.94z\"/><path d=\"M17.41 7.96l-1.37-1.37c-.4-.4-.92-.59-1.43-.59-.52 0-1.04.2-1.43.59L10.3 9.45l-7.72 7.72c-.78.78-.78 2.05 0 2.83L4 21.41c.39.39.9.59 1.41.59.51 0 1.02-.2 1.41-.59l7.78-7.78 2.81-2.81c.8-.78.8-2.07 0-2.86zM5.41 20L4 18.59l7.72-7.72 1.47 1.35L5.41 20z\"/>\n",
              "  </svg>\n",
              "      </button>\n",
              "      \n",
              "  <style>\n",
              "    .colab-df-container {\n",
              "      display:flex;\n",
              "      flex-wrap:wrap;\n",
              "      gap: 12px;\n",
              "    }\n",
              "\n",
              "    .colab-df-convert {\n",
              "      background-color: #E8F0FE;\n",
              "      border: none;\n",
              "      border-radius: 50%;\n",
              "      cursor: pointer;\n",
              "      display: none;\n",
              "      fill: #1967D2;\n",
              "      height: 32px;\n",
              "      padding: 0 0 0 0;\n",
              "      width: 32px;\n",
              "    }\n",
              "\n",
              "    .colab-df-convert:hover {\n",
              "      background-color: #E2EBFA;\n",
              "      box-shadow: 0px 1px 2px rgba(60, 64, 67, 0.3), 0px 1px 3px 1px rgba(60, 64, 67, 0.15);\n",
              "      fill: #174EA6;\n",
              "    }\n",
              "\n",
              "    [theme=dark] .colab-df-convert {\n",
              "      background-color: #3B4455;\n",
              "      fill: #D2E3FC;\n",
              "    }\n",
              "\n",
              "    [theme=dark] .colab-df-convert:hover {\n",
              "      background-color: #434B5C;\n",
              "      box-shadow: 0px 1px 3px 1px rgba(0, 0, 0, 0.15);\n",
              "      filter: drop-shadow(0px 1px 2px rgba(0, 0, 0, 0.3));\n",
              "      fill: #FFFFFF;\n",
              "    }\n",
              "  </style>\n",
              "\n",
              "      <script>\n",
              "        const buttonEl =\n",
              "          document.querySelector('#df-ffb34f05-5f81-4d42-bb79-afb13528aaab button.colab-df-convert');\n",
              "        buttonEl.style.display =\n",
              "          google.colab.kernel.accessAllowed ? 'block' : 'none';\n",
              "\n",
              "        async function convertToInteractive(key) {\n",
              "          const element = document.querySelector('#df-ffb34f05-5f81-4d42-bb79-afb13528aaab');\n",
              "          const dataTable =\n",
              "            await google.colab.kernel.invokeFunction('convertToInteractive',\n",
              "                                                     [key], {});\n",
              "          if (!dataTable) return;\n",
              "\n",
              "          const docLinkHtml = 'Like what you see? Visit the ' +\n",
              "            '<a target=\"_blank\" href=https://colab.research.google.com/notebooks/data_table.ipynb>data table notebook</a>'\n",
              "            + ' to learn more about interactive tables.';\n",
              "          element.innerHTML = '';\n",
              "          dataTable['output_type'] = 'display_data';\n",
              "          await google.colab.output.renderOutput(dataTable, element);\n",
              "          const docLink = document.createElement('div');\n",
              "          docLink.innerHTML = docLinkHtml;\n",
              "          element.appendChild(docLink);\n",
              "        }\n",
              "      </script>\n",
              "    </div>\n",
              "  </div>\n",
              "  "
            ]
          },
          "metadata": {},
          "execution_count": 3
        }
      ]
    },
    {
      "cell_type": "code",
      "source": [
        "# စာသားများအား အကြီးအသေးပြောင်းခြင်း\n",
        "# စာသားများနှင့်ဆိုင်သော format များပြောင်းဖို့အတွက် python ရဲ့ built-in string method ကိုသုံးမှာဖြစ်ပါတယ်။\n",
        "# ပထမဆုံး string ရဲ့သဘောသဘာဝကို လုပ်ကြည့်ရအောင်\n",
        "\n",
        "txt='I am a boy.'\n",
        "print(txt.upper()) #စာသားအားလုံးကို အကြီးပြောင်းခြင်း\n",
        "print(txt.lower()) #စာသားအားလုံးကို အငယ်ပြောင်ခြင်း\n",
        "print(txt.title()) #စာလုံးတိုင်း၏ အစတိုင်းကို အကြီးအဖြစ်ပြောင်းခြင်း\n",
        "print(txt.casefold()) #စာလုံးအကြီးကို အသေးပြောင်းခြင်း/ အသေးကိုအကြီးပြောင်းခြင်း\n",
        "print(txt.capitalize()) #အစစာလုံးကိုသာ အကြီးပြောင်းခြင်း"
      ],
      "metadata": {
        "colab": {
          "base_uri": "https://localhost:8080/"
        },
        "id": "xuULtUAsGN98",
        "outputId": "9c9b51b0-16fc-4196-f4c4-5ffb38787a68"
      },
      "execution_count": 4,
      "outputs": [
        {
          "output_type": "stream",
          "name": "stdout",
          "text": [
            "I AM A BOY.\n",
            "i am a boy.\n",
            "I Am A Boy.\n",
            "i am a boy.\n",
            "I am a boy.\n"
          ]
        }
      ]
    },
    {
      "cell_type": "code",
      "source": [
        "df.cut.str.upper()\n",
        "# တခြားဟာတွေကိုလဲ ဒီလိုပဲသုံးလို့ရပါတယ်။"
      ],
      "metadata": {
        "colab": {
          "base_uri": "https://localhost:8080/"
        },
        "id": "59sLck5yHZmt",
        "outputId": "4e840332-ee0f-465a-b0df-6bab6ce388e9"
      },
      "execution_count": 5,
      "outputs": [
        {
          "output_type": "execute_result",
          "data": {
            "text/plain": [
              "0            IDEAL\n",
              "1          PREMIUM\n",
              "2             GOOD\n",
              "3          PREMIUM\n",
              "4             GOOD\n",
              "           ...    \n",
              "53935        IDEAL\n",
              "53936         GOOD\n",
              "53937    VERY GOOD\n",
              "53938      PREMIUM\n",
              "53939        IDEAL\n",
              "Name: cut, Length: 53940, dtype: object"
            ]
          },
          "metadata": {},
          "execution_count": 5
        }
      ]
    },
    {
      "cell_type": "code",
      "source": [
        "# string slicing method ကိုသုံးပြီးလည်း ကိုယ်လိုချင်တဲ့စာလုံးအရေအတွက်ကို ယူလို့ရပါတယ်။\n",
        "print(txt[0:4])"
      ],
      "metadata": {
        "colab": {
          "base_uri": "https://localhost:8080/"
        },
        "id": "iNdLEALJIFg9",
        "outputId": "940cd3a6-8559-4439-9eb3-998c23497d6a"
      },
      "execution_count": 6,
      "outputs": [
        {
          "output_type": "stream",
          "name": "stdout",
          "text": [
            "I am\n"
          ]
        }
      ]
    },
    {
      "cell_type": "code",
      "source": [
        "df.cut.str[0:3]"
      ],
      "metadata": {
        "colab": {
          "base_uri": "https://localhost:8080/"
        },
        "id": "2wx0tBWZRF_4",
        "outputId": "6a178237-ad27-4990-dfbe-40d35ea89411"
      },
      "execution_count": 7,
      "outputs": [
        {
          "output_type": "execute_result",
          "data": {
            "text/plain": [
              "0        Ide\n",
              "1        Pre\n",
              "2        Goo\n",
              "3        Pre\n",
              "4        Goo\n",
              "        ... \n",
              "53935    Ide\n",
              "53936    Goo\n",
              "53937    Ver\n",
              "53938    Pre\n",
              "53939    Ide\n",
              "Name: cut, Length: 53940, dtype: object"
            ]
          },
          "metadata": {},
          "execution_count": 7
        }
      ]
    },
    {
      "cell_type": "code",
      "source": [
        "lumber=pd.read_csv('/content/drive/MyDrive/lumber-prices.csv')\n",
        "lumber.head()\n",
        "# ဒီ data set မှာ string ဖြစ်နေတဲ့ $ sign ပါတဲ့ value တွေကို analysis လုပ်လို့ရအောင်အတွက် \n",
        "# datatype ကို အရင်ပြောင်းပြီး တွက်မှရမှာဖြစ်ပါတယ်။"
      ],
      "metadata": {
        "colab": {
          "base_uri": "https://localhost:8080/",
          "height": 206
        },
        "id": "4YKV9q0MRKDl",
        "outputId": "dcf51fac-40cb-473f-edf7-601c79e7101b"
      },
      "execution_count": 8,
      "outputs": [
        {
          "output_type": "execute_result",
          "data": {
            "text/plain": [
              "      open     high      low    close                 date\n",
              "0  $407.00  $424.70  $377.00  $424.70  1996-12-09T00:00:00\n",
              "1  $426.00  $450.50  $395.00  $411.40  1997-01-02T00:00:00\n",
              "2  $408.50  $421.50  $382.10  $383.50  1997-02-03T00:00:00\n",
              "3  $386.00  $389.70  $355.00  $380.50  1997-03-03T00:00:00\n",
              "4  $378.00  $417.50  $376.50  $403.10  1997-04-01T00:00:00"
            ],
            "text/html": [
              "\n",
              "  <div id=\"df-202095d6-1e89-45a3-a573-d0fb9988a63c\">\n",
              "    <div class=\"colab-df-container\">\n",
              "      <div>\n",
              "<style scoped>\n",
              "    .dataframe tbody tr th:only-of-type {\n",
              "        vertical-align: middle;\n",
              "    }\n",
              "\n",
              "    .dataframe tbody tr th {\n",
              "        vertical-align: top;\n",
              "    }\n",
              "\n",
              "    .dataframe thead th {\n",
              "        text-align: right;\n",
              "    }\n",
              "</style>\n",
              "<table border=\"1\" class=\"dataframe\">\n",
              "  <thead>\n",
              "    <tr style=\"text-align: right;\">\n",
              "      <th></th>\n",
              "      <th>open</th>\n",
              "      <th>high</th>\n",
              "      <th>low</th>\n",
              "      <th>close</th>\n",
              "      <th>date</th>\n",
              "    </tr>\n",
              "  </thead>\n",
              "  <tbody>\n",
              "    <tr>\n",
              "      <th>0</th>\n",
              "      <td>$407.00</td>\n",
              "      <td>$424.70</td>\n",
              "      <td>$377.00</td>\n",
              "      <td>$424.70</td>\n",
              "      <td>1996-12-09T00:00:00</td>\n",
              "    </tr>\n",
              "    <tr>\n",
              "      <th>1</th>\n",
              "      <td>$426.00</td>\n",
              "      <td>$450.50</td>\n",
              "      <td>$395.00</td>\n",
              "      <td>$411.40</td>\n",
              "      <td>1997-01-02T00:00:00</td>\n",
              "    </tr>\n",
              "    <tr>\n",
              "      <th>2</th>\n",
              "      <td>$408.50</td>\n",
              "      <td>$421.50</td>\n",
              "      <td>$382.10</td>\n",
              "      <td>$383.50</td>\n",
              "      <td>1997-02-03T00:00:00</td>\n",
              "    </tr>\n",
              "    <tr>\n",
              "      <th>3</th>\n",
              "      <td>$386.00</td>\n",
              "      <td>$389.70</td>\n",
              "      <td>$355.00</td>\n",
              "      <td>$380.50</td>\n",
              "      <td>1997-03-03T00:00:00</td>\n",
              "    </tr>\n",
              "    <tr>\n",
              "      <th>4</th>\n",
              "      <td>$378.00</td>\n",
              "      <td>$417.50</td>\n",
              "      <td>$376.50</td>\n",
              "      <td>$403.10</td>\n",
              "      <td>1997-04-01T00:00:00</td>\n",
              "    </tr>\n",
              "  </tbody>\n",
              "</table>\n",
              "</div>\n",
              "      <button class=\"colab-df-convert\" onclick=\"convertToInteractive('df-202095d6-1e89-45a3-a573-d0fb9988a63c')\"\n",
              "              title=\"Convert this dataframe to an interactive table.\"\n",
              "              style=\"display:none;\">\n",
              "        \n",
              "  <svg xmlns=\"http://www.w3.org/2000/svg\" height=\"24px\"viewBox=\"0 0 24 24\"\n",
              "       width=\"24px\">\n",
              "    <path d=\"M0 0h24v24H0V0z\" fill=\"none\"/>\n",
              "    <path d=\"M18.56 5.44l.94 2.06.94-2.06 2.06-.94-2.06-.94-.94-2.06-.94 2.06-2.06.94zm-11 1L8.5 8.5l.94-2.06 2.06-.94-2.06-.94L8.5 2.5l-.94 2.06-2.06.94zm10 10l.94 2.06.94-2.06 2.06-.94-2.06-.94-.94-2.06-.94 2.06-2.06.94z\"/><path d=\"M17.41 7.96l-1.37-1.37c-.4-.4-.92-.59-1.43-.59-.52 0-1.04.2-1.43.59L10.3 9.45l-7.72 7.72c-.78.78-.78 2.05 0 2.83L4 21.41c.39.39.9.59 1.41.59.51 0 1.02-.2 1.41-.59l7.78-7.78 2.81-2.81c.8-.78.8-2.07 0-2.86zM5.41 20L4 18.59l7.72-7.72 1.47 1.35L5.41 20z\"/>\n",
              "  </svg>\n",
              "      </button>\n",
              "      \n",
              "  <style>\n",
              "    .colab-df-container {\n",
              "      display:flex;\n",
              "      flex-wrap:wrap;\n",
              "      gap: 12px;\n",
              "    }\n",
              "\n",
              "    .colab-df-convert {\n",
              "      background-color: #E8F0FE;\n",
              "      border: none;\n",
              "      border-radius: 50%;\n",
              "      cursor: pointer;\n",
              "      display: none;\n",
              "      fill: #1967D2;\n",
              "      height: 32px;\n",
              "      padding: 0 0 0 0;\n",
              "      width: 32px;\n",
              "    }\n",
              "\n",
              "    .colab-df-convert:hover {\n",
              "      background-color: #E2EBFA;\n",
              "      box-shadow: 0px 1px 2px rgba(60, 64, 67, 0.3), 0px 1px 3px 1px rgba(60, 64, 67, 0.15);\n",
              "      fill: #174EA6;\n",
              "    }\n",
              "\n",
              "    [theme=dark] .colab-df-convert {\n",
              "      background-color: #3B4455;\n",
              "      fill: #D2E3FC;\n",
              "    }\n",
              "\n",
              "    [theme=dark] .colab-df-convert:hover {\n",
              "      background-color: #434B5C;\n",
              "      box-shadow: 0px 1px 3px 1px rgba(0, 0, 0, 0.15);\n",
              "      filter: drop-shadow(0px 1px 2px rgba(0, 0, 0, 0.3));\n",
              "      fill: #FFFFFF;\n",
              "    }\n",
              "  </style>\n",
              "\n",
              "      <script>\n",
              "        const buttonEl =\n",
              "          document.querySelector('#df-202095d6-1e89-45a3-a573-d0fb9988a63c button.colab-df-convert');\n",
              "        buttonEl.style.display =\n",
              "          google.colab.kernel.accessAllowed ? 'block' : 'none';\n",
              "\n",
              "        async function convertToInteractive(key) {\n",
              "          const element = document.querySelector('#df-202095d6-1e89-45a3-a573-d0fb9988a63c');\n",
              "          const dataTable =\n",
              "            await google.colab.kernel.invokeFunction('convertToInteractive',\n",
              "                                                     [key], {});\n",
              "          if (!dataTable) return;\n",
              "\n",
              "          const docLinkHtml = 'Like what you see? Visit the ' +\n",
              "            '<a target=\"_blank\" href=https://colab.research.google.com/notebooks/data_table.ipynb>data table notebook</a>'\n",
              "            + ' to learn more about interactive tables.';\n",
              "          element.innerHTML = '';\n",
              "          dataTable['output_type'] = 'display_data';\n",
              "          await google.colab.output.renderOutput(dataTable, element);\n",
              "          const docLink = document.createElement('div');\n",
              "          docLink.innerHTML = docLinkHtml;\n",
              "          element.appendChild(docLink);\n",
              "        }\n",
              "      </script>\n",
              "    </div>\n",
              "  </div>\n",
              "  "
            ]
          },
          "metadata": {},
          "execution_count": 8
        }
      ]
    },
    {
      "cell_type": "code",
      "source": [
        "lumber.info()\n",
        "# info ကိုကြည့်လိုက်ရင် numerical ပါတဲ့ row တွေကလဲ object data type ဖြစ်နေတဲ့အတွက် datatype တွေကို\n",
        "# ပြောင်းပေး ရပါတယ်။"
      ],
      "metadata": {
        "colab": {
          "base_uri": "https://localhost:8080/"
        },
        "id": "eXxas9jtSEJK",
        "outputId": "a11f14aa-1ee5-4512-c2e5-3ef8e05554a3"
      },
      "execution_count": 9,
      "outputs": [
        {
          "output_type": "stream",
          "name": "stdout",
          "text": [
            "<class 'pandas.core.frame.DataFrame'>\n",
            "RangeIndex: 300 entries, 0 to 299\n",
            "Data columns (total 5 columns):\n",
            " #   Column  Non-Null Count  Dtype \n",
            "---  ------  --------------  ----- \n",
            " 0   open    300 non-null    object\n",
            " 1   high    300 non-null    object\n",
            " 2   low     300 non-null    object\n",
            " 3   close   300 non-null    object\n",
            " 4   date    300 non-null    object\n",
            "dtypes: object(5)\n",
            "memory usage: 11.8+ KB\n"
          ]
        }
      ]
    },
    {
      "cell_type": "code",
      "source": [
        "lumber['open_new']=lumber.open.str.replace('$','')\n",
        "# replace method ဖြသင် $ sign နေရာမှာ whitespace ထားပါမယ်။\n",
        "# ပြီးရင် မူရင်း data set ထဲပြန်ပြီး assign လုပ်ကြည့်ပါမယ်။"
      ],
      "metadata": {
        "colab": {
          "base_uri": "https://localhost:8080/"
        },
        "id": "_bKD4JCbSjZ7",
        "outputId": "e1e5f7fb-311a-4dd5-ffb7-48074a2f260e"
      },
      "execution_count": 10,
      "outputs": [
        {
          "output_type": "stream",
          "name": "stderr",
          "text": [
            "/usr/local/lib/python3.7/dist-packages/ipykernel_launcher.py:1: FutureWarning: The default value of regex will change from True to False in a future version. In addition, single character regular expressions will *not* be treated as literal strings when regex=True.\n",
            "  \"\"\"Entry point for launching an IPython kernel.\n"
          ]
        }
      ]
    },
    {
      "cell_type": "code",
      "source": [
        "lumber"
      ],
      "metadata": {
        "colab": {
          "base_uri": "https://localhost:8080/",
          "height": 424
        },
        "id": "kRNF4SIXT-Sf",
        "outputId": "7298f9b0-6a55-4a7d-8afe-14d27166710c"
      },
      "execution_count": 11,
      "outputs": [
        {
          "output_type": "execute_result",
          "data": {
            "text/plain": [
              "        open     high      low    close                 date open_new\n",
              "0    $407.00  $424.70  $377.00  $424.70  1996-12-09T00:00:00   407.00\n",
              "1    $426.00  $450.50  $395.00  $411.40  1997-01-02T00:00:00   426.00\n",
              "2    $408.50  $421.50  $382.10  $383.50  1997-02-03T00:00:00   408.50\n",
              "3    $386.00  $389.70  $355.00  $380.50  1997-03-03T00:00:00   386.00\n",
              "4    $378.00  $417.50  $376.50  $403.10  1997-04-01T00:00:00   378.00\n",
              "..       ...      ...      ...      ...                  ...      ...\n",
              "295  $716.00  $825.60  $490.00  $621.20  2021-07-01T00:00:00   716.00\n",
              "296  $623.10  $650.00  $448.00  $482.80  2021-08-02T00:00:00   623.10\n",
              "297  $482.10  $659.70  $454.40  $627.50  2021-09-01T00:00:00   482.10\n",
              "298  $637.10  $789.60  $588.50  $591.60  2021-10-01T00:00:00   637.10\n",
              "299  $595.20  $831.80  $530.10  $824.50  2021-11-01T00:00:00   595.20\n",
              "\n",
              "[300 rows x 6 columns]"
            ],
            "text/html": [
              "\n",
              "  <div id=\"df-b92eaccb-4949-4606-a8cd-a29a1eef11e1\">\n",
              "    <div class=\"colab-df-container\">\n",
              "      <div>\n",
              "<style scoped>\n",
              "    .dataframe tbody tr th:only-of-type {\n",
              "        vertical-align: middle;\n",
              "    }\n",
              "\n",
              "    .dataframe tbody tr th {\n",
              "        vertical-align: top;\n",
              "    }\n",
              "\n",
              "    .dataframe thead th {\n",
              "        text-align: right;\n",
              "    }\n",
              "</style>\n",
              "<table border=\"1\" class=\"dataframe\">\n",
              "  <thead>\n",
              "    <tr style=\"text-align: right;\">\n",
              "      <th></th>\n",
              "      <th>open</th>\n",
              "      <th>high</th>\n",
              "      <th>low</th>\n",
              "      <th>close</th>\n",
              "      <th>date</th>\n",
              "      <th>open_new</th>\n",
              "    </tr>\n",
              "  </thead>\n",
              "  <tbody>\n",
              "    <tr>\n",
              "      <th>0</th>\n",
              "      <td>$407.00</td>\n",
              "      <td>$424.70</td>\n",
              "      <td>$377.00</td>\n",
              "      <td>$424.70</td>\n",
              "      <td>1996-12-09T00:00:00</td>\n",
              "      <td>407.00</td>\n",
              "    </tr>\n",
              "    <tr>\n",
              "      <th>1</th>\n",
              "      <td>$426.00</td>\n",
              "      <td>$450.50</td>\n",
              "      <td>$395.00</td>\n",
              "      <td>$411.40</td>\n",
              "      <td>1997-01-02T00:00:00</td>\n",
              "      <td>426.00</td>\n",
              "    </tr>\n",
              "    <tr>\n",
              "      <th>2</th>\n",
              "      <td>$408.50</td>\n",
              "      <td>$421.50</td>\n",
              "      <td>$382.10</td>\n",
              "      <td>$383.50</td>\n",
              "      <td>1997-02-03T00:00:00</td>\n",
              "      <td>408.50</td>\n",
              "    </tr>\n",
              "    <tr>\n",
              "      <th>3</th>\n",
              "      <td>$386.00</td>\n",
              "      <td>$389.70</td>\n",
              "      <td>$355.00</td>\n",
              "      <td>$380.50</td>\n",
              "      <td>1997-03-03T00:00:00</td>\n",
              "      <td>386.00</td>\n",
              "    </tr>\n",
              "    <tr>\n",
              "      <th>4</th>\n",
              "      <td>$378.00</td>\n",
              "      <td>$417.50</td>\n",
              "      <td>$376.50</td>\n",
              "      <td>$403.10</td>\n",
              "      <td>1997-04-01T00:00:00</td>\n",
              "      <td>378.00</td>\n",
              "    </tr>\n",
              "    <tr>\n",
              "      <th>...</th>\n",
              "      <td>...</td>\n",
              "      <td>...</td>\n",
              "      <td>...</td>\n",
              "      <td>...</td>\n",
              "      <td>...</td>\n",
              "      <td>...</td>\n",
              "    </tr>\n",
              "    <tr>\n",
              "      <th>295</th>\n",
              "      <td>$716.00</td>\n",
              "      <td>$825.60</td>\n",
              "      <td>$490.00</td>\n",
              "      <td>$621.20</td>\n",
              "      <td>2021-07-01T00:00:00</td>\n",
              "      <td>716.00</td>\n",
              "    </tr>\n",
              "    <tr>\n",
              "      <th>296</th>\n",
              "      <td>$623.10</td>\n",
              "      <td>$650.00</td>\n",
              "      <td>$448.00</td>\n",
              "      <td>$482.80</td>\n",
              "      <td>2021-08-02T00:00:00</td>\n",
              "      <td>623.10</td>\n",
              "    </tr>\n",
              "    <tr>\n",
              "      <th>297</th>\n",
              "      <td>$482.10</td>\n",
              "      <td>$659.70</td>\n",
              "      <td>$454.40</td>\n",
              "      <td>$627.50</td>\n",
              "      <td>2021-09-01T00:00:00</td>\n",
              "      <td>482.10</td>\n",
              "    </tr>\n",
              "    <tr>\n",
              "      <th>298</th>\n",
              "      <td>$637.10</td>\n",
              "      <td>$789.60</td>\n",
              "      <td>$588.50</td>\n",
              "      <td>$591.60</td>\n",
              "      <td>2021-10-01T00:00:00</td>\n",
              "      <td>637.10</td>\n",
              "    </tr>\n",
              "    <tr>\n",
              "      <th>299</th>\n",
              "      <td>$595.20</td>\n",
              "      <td>$831.80</td>\n",
              "      <td>$530.10</td>\n",
              "      <td>$824.50</td>\n",
              "      <td>2021-11-01T00:00:00</td>\n",
              "      <td>595.20</td>\n",
              "    </tr>\n",
              "  </tbody>\n",
              "</table>\n",
              "<p>300 rows × 6 columns</p>\n",
              "</div>\n",
              "      <button class=\"colab-df-convert\" onclick=\"convertToInteractive('df-b92eaccb-4949-4606-a8cd-a29a1eef11e1')\"\n",
              "              title=\"Convert this dataframe to an interactive table.\"\n",
              "              style=\"display:none;\">\n",
              "        \n",
              "  <svg xmlns=\"http://www.w3.org/2000/svg\" height=\"24px\"viewBox=\"0 0 24 24\"\n",
              "       width=\"24px\">\n",
              "    <path d=\"M0 0h24v24H0V0z\" fill=\"none\"/>\n",
              "    <path d=\"M18.56 5.44l.94 2.06.94-2.06 2.06-.94-2.06-.94-.94-2.06-.94 2.06-2.06.94zm-11 1L8.5 8.5l.94-2.06 2.06-.94-2.06-.94L8.5 2.5l-.94 2.06-2.06.94zm10 10l.94 2.06.94-2.06 2.06-.94-2.06-.94-.94-2.06-.94 2.06-2.06.94z\"/><path d=\"M17.41 7.96l-1.37-1.37c-.4-.4-.92-.59-1.43-.59-.52 0-1.04.2-1.43.59L10.3 9.45l-7.72 7.72c-.78.78-.78 2.05 0 2.83L4 21.41c.39.39.9.59 1.41.59.51 0 1.02-.2 1.41-.59l7.78-7.78 2.81-2.81c.8-.78.8-2.07 0-2.86zM5.41 20L4 18.59l7.72-7.72 1.47 1.35L5.41 20z\"/>\n",
              "  </svg>\n",
              "      </button>\n",
              "      \n",
              "  <style>\n",
              "    .colab-df-container {\n",
              "      display:flex;\n",
              "      flex-wrap:wrap;\n",
              "      gap: 12px;\n",
              "    }\n",
              "\n",
              "    .colab-df-convert {\n",
              "      background-color: #E8F0FE;\n",
              "      border: none;\n",
              "      border-radius: 50%;\n",
              "      cursor: pointer;\n",
              "      display: none;\n",
              "      fill: #1967D2;\n",
              "      height: 32px;\n",
              "      padding: 0 0 0 0;\n",
              "      width: 32px;\n",
              "    }\n",
              "\n",
              "    .colab-df-convert:hover {\n",
              "      background-color: #E2EBFA;\n",
              "      box-shadow: 0px 1px 2px rgba(60, 64, 67, 0.3), 0px 1px 3px 1px rgba(60, 64, 67, 0.15);\n",
              "      fill: #174EA6;\n",
              "    }\n",
              "\n",
              "    [theme=dark] .colab-df-convert {\n",
              "      background-color: #3B4455;\n",
              "      fill: #D2E3FC;\n",
              "    }\n",
              "\n",
              "    [theme=dark] .colab-df-convert:hover {\n",
              "      background-color: #434B5C;\n",
              "      box-shadow: 0px 1px 3px 1px rgba(0, 0, 0, 0.15);\n",
              "      filter: drop-shadow(0px 1px 2px rgba(0, 0, 0, 0.3));\n",
              "      fill: #FFFFFF;\n",
              "    }\n",
              "  </style>\n",
              "\n",
              "      <script>\n",
              "        const buttonEl =\n",
              "          document.querySelector('#df-b92eaccb-4949-4606-a8cd-a29a1eef11e1 button.colab-df-convert');\n",
              "        buttonEl.style.display =\n",
              "          google.colab.kernel.accessAllowed ? 'block' : 'none';\n",
              "\n",
              "        async function convertToInteractive(key) {\n",
              "          const element = document.querySelector('#df-b92eaccb-4949-4606-a8cd-a29a1eef11e1');\n",
              "          const dataTable =\n",
              "            await google.colab.kernel.invokeFunction('convertToInteractive',\n",
              "                                                     [key], {});\n",
              "          if (!dataTable) return;\n",
              "\n",
              "          const docLinkHtml = 'Like what you see? Visit the ' +\n",
              "            '<a target=\"_blank\" href=https://colab.research.google.com/notebooks/data_table.ipynb>data table notebook</a>'\n",
              "            + ' to learn more about interactive tables.';\n",
              "          element.innerHTML = '';\n",
              "          dataTable['output_type'] = 'display_data';\n",
              "          await google.colab.output.renderOutput(dataTable, element);\n",
              "          const docLink = document.createElement('div');\n",
              "          docLink.innerHTML = docLinkHtml;\n",
              "          element.appendChild(docLink);\n",
              "        }\n",
              "      </script>\n",
              "    </div>\n",
              "  </div>\n",
              "  "
            ]
          },
          "metadata": {},
          "execution_count": 11
        }
      ]
    },
    {
      "cell_type": "code",
      "source": [
        "# data ကို assign လုပ်ထားပြီးဖြစ်သည့်အတွက် data info ကို တချက်ပြန်ကြည့်ရအောင်\n",
        "lumber.info()"
      ],
      "metadata": {
        "colab": {
          "base_uri": "https://localhost:8080/"
        },
        "id": "1StGVw5gT_28",
        "outputId": "670b1be7-d82d-45aa-9509-4237bb60df94"
      },
      "execution_count": 12,
      "outputs": [
        {
          "output_type": "stream",
          "name": "stdout",
          "text": [
            "<class 'pandas.core.frame.DataFrame'>\n",
            "RangeIndex: 300 entries, 0 to 299\n",
            "Data columns (total 6 columns):\n",
            " #   Column    Non-Null Count  Dtype \n",
            "---  ------    --------------  ----- \n",
            " 0   open      300 non-null    object\n",
            " 1   high      300 non-null    object\n",
            " 2   low       300 non-null    object\n",
            " 3   close     300 non-null    object\n",
            " 4   date      300 non-null    object\n",
            " 5   open_new  300 non-null    object\n",
            "dtypes: object(6)\n",
            "memory usage: 14.2+ KB\n"
          ]
        }
      ]
    },
    {
      "cell_type": "code",
      "source": [
        "# ဒါပေမယ့် object data type ဖြစ်သည့်အတွက် mathematical operation တွေကို လုပ်လို့မရသေးပါဘူး။\n",
        "# အဲ့တာကြောင့်မို့ data type ကိုပြောင်းပေးရပါမယ်။\n",
        "lumber['open_new']=lumber['open_new'].astype(np.float64)"
      ],
      "metadata": {
        "id": "I8kPgLaLUrxg"
      },
      "execution_count": 13,
      "outputs": []
    },
    {
      "cell_type": "code",
      "source": [
        "lumber.info()"
      ],
      "metadata": {
        "colab": {
          "base_uri": "https://localhost:8080/"
        },
        "id": "MYaviqh1VTRP",
        "outputId": "011f763c-53cd-4037-e689-8bfa83ca0f6d"
      },
      "execution_count": 14,
      "outputs": [
        {
          "output_type": "stream",
          "name": "stdout",
          "text": [
            "<class 'pandas.core.frame.DataFrame'>\n",
            "RangeIndex: 300 entries, 0 to 299\n",
            "Data columns (total 6 columns):\n",
            " #   Column    Non-Null Count  Dtype  \n",
            "---  ------    --------------  -----  \n",
            " 0   open      300 non-null    object \n",
            " 1   high      300 non-null    object \n",
            " 2   low       300 non-null    object \n",
            " 3   close     300 non-null    object \n",
            " 4   date      300 non-null    object \n",
            " 5   open_new  300 non-null    float64\n",
            "dtypes: float64(1), object(5)\n",
            "memory usage: 14.2+ KB\n"
          ]
        }
      ]
    },
    {
      "cell_type": "code",
      "source": [
        "# ဒီလောက်ဆိုရင် အသုံးဝင်သည့် string method တချို့ကို နားလည်ပြီဟုယူဆပါတယ်။\n",
        "# (10-8-2022)"
      ],
      "metadata": {
        "colab": {
          "base_uri": "https://localhost:8080/"
        },
        "id": "YeWWsPCCWZRx",
        "outputId": "7c5fed31-1573-44b2-a73d-c8cb08770869"
      },
      "execution_count": 15,
      "outputs": [
        {
          "output_type": "execute_result",
          "data": {
            "text/plain": [
              "-2020"
            ]
          },
          "metadata": {},
          "execution_count": 15
        }
      ]
    }
  ]
}